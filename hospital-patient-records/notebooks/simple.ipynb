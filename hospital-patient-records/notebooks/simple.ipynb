{
 "cells": [
  {
   "metadata": {
    "ExecuteTime": {
     "end_time": "2024-08-02T11:53:13.200910Z",
     "start_time": "2024-08-02T11:53:02.835509Z"
    }
   },
   "cell_type": "code",
   "source": [
    "# Import libraries\n",
    "import numpy as np\n",
    "import pandas as pd\n",
    "from ydata_profiling import ProfileReport"
   ],
   "id": "7df9140457caed5e",
   "outputs": [],
   "execution_count": 2
  },
  {
   "metadata": {
    "ExecuteTime": {
     "end_time": "2024-08-02T11:53:25.948718Z",
     "start_time": "2024-08-02T11:53:24.908248Z"
    }
   },
   "cell_type": "code",
   "source": [
    "# Import data\n",
    "dictionary = pd.read_csv(\"data/raw/data_dictionary.csv\")\n",
    "encounters = pd.read_csv(\"data/raw/encounters.csv\")\n",
    "organizations = pd.read_csv(\"data/raw/organizations.csv\")\n",
    "payers = pd.read_csv(\"data/raw/payers.csv\")\n",
    "patients = pd.read_csv(\"data/raw/patients.csv\")\n",
    "procedures = pd.read_csv(\"data/raw/procedures.csv\")"
   ],
   "id": "5e5a0c47b34fd966",
   "outputs": [],
   "execution_count": 3
  },
  {
   "metadata": {
    "ExecuteTime": {
     "end_time": "2024-08-02T11:54:47.000781Z",
     "start_time": "2024-08-02T11:54:44.762164Z"
    }
   },
   "cell_type": "code",
   "source": [
    "dictionary_profile = ProfileReport(dictionary, title=\"Dictionary Profiling Report\")\n",
    "encounters_profile = ProfileReport(encounters, title=\"Encounters Profiling Report\")\n",
    "organizations_profile = ProfileReport(organizations, title=\"Organizations Profiling Report\")\n",
    "payers_profile = ProfileReport(payers, title=\"Payers Profiling Report\")\n",
    "patients_profile = ProfileReport(patients, title=\"Patients Profiling Report\")\n",
    "procedures_profile = ProfileReport(procedures, title=\"Procedures Profiling Report\")"
   ],
   "id": "8244c4ecffcf6ae4",
   "outputs": [],
   "execution_count": 4
  },
  {
   "metadata": {
    "ExecuteTime": {
     "end_time": "2024-08-02T12:00:15.052263Z",
     "start_time": "2024-08-02T11:55:54.588699Z"
    }
   },
   "cell_type": "code",
   "source": [
    "dictionary_profile.to_file(\"dictionary.html\")\n",
    "encounters_profile.to_file(\"encounters.html\")\n",
    "organizations_profile.to_file(\"organizations.html\")\n",
    "payers_profile.to_file(\"payers.html\")\n",
    "patients_profile.to_file(\"patients.html\")"
   ],
   "id": "9c4e0556e606b077",
   "outputs": [
    {
     "data": {
      "text/plain": [
       "Summarize dataset:   0%|          | 0/5 [00:00<?, ?it/s]"
      ],
      "application/vnd.jupyter.widget-view+json": {
       "version_major": 2,
       "version_minor": 0,
       "model_id": "82f4e4a8ccb44fd0bd54f74ecd858bff"
      }
     },
     "metadata": {},
     "output_type": "display_data"
    },
    {
     "data": {
      "text/plain": [
       "Generate report structure:   0%|          | 0/1 [00:00<?, ?it/s]"
      ],
      "application/vnd.jupyter.widget-view+json": {
       "version_major": 2,
       "version_minor": 0,
       "model_id": "9fbcf9281d32456884da5590f1dbd7c0"
      }
     },
     "metadata": {},
     "output_type": "display_data"
    },
    {
     "data": {
      "text/plain": [
       "Render HTML:   0%|          | 0/1 [00:00<?, ?it/s]"
      ],
      "application/vnd.jupyter.widget-view+json": {
       "version_major": 2,
       "version_minor": 0,
       "model_id": "2f89c7451f444906963305aff7e0f363"
      }
     },
     "metadata": {},
     "output_type": "display_data"
    },
    {
     "data": {
      "text/plain": [
       "Export report to file:   0%|          | 0/1 [00:00<?, ?it/s]"
      ],
      "application/vnd.jupyter.widget-view+json": {
       "version_major": 2,
       "version_minor": 0,
       "model_id": "c77f9bf95d5c4921a4e432a46187bb00"
      }
     },
     "metadata": {},
     "output_type": "display_data"
    },
    {
     "data": {
      "text/plain": [
       "Summarize dataset:   0%|          | 0/5 [00:00<?, ?it/s]"
      ],
      "application/vnd.jupyter.widget-view+json": {
       "version_major": 2,
       "version_minor": 0,
       "model_id": "3cfa5310e6b64888b29633201b11a136"
      }
     },
     "metadata": {},
     "output_type": "display_data"
    },
    {
     "data": {
      "text/plain": [
       "Generate report structure:   0%|          | 0/1 [00:00<?, ?it/s]"
      ],
      "application/vnd.jupyter.widget-view+json": {
       "version_major": 2,
       "version_minor": 0,
       "model_id": "f9e3c379696a4b13bfc0462d73e4d13c"
      }
     },
     "metadata": {},
     "output_type": "display_data"
    },
    {
     "data": {
      "text/plain": [
       "Render HTML:   0%|          | 0/1 [00:00<?, ?it/s]"
      ],
      "application/vnd.jupyter.widget-view+json": {
       "version_major": 2,
       "version_minor": 0,
       "model_id": "04429acc51db4aa2acae8acaa6ff869c"
      }
     },
     "metadata": {},
     "output_type": "display_data"
    },
    {
     "data": {
      "text/plain": [
       "Export report to file:   0%|          | 0/1 [00:00<?, ?it/s]"
      ],
      "application/vnd.jupyter.widget-view+json": {
       "version_major": 2,
       "version_minor": 0,
       "model_id": "82744dc25c3a4faba69e7ab438c85241"
      }
     },
     "metadata": {},
     "output_type": "display_data"
    },
    {
     "data": {
      "text/plain": [
       "Summarize dataset:   0%|          | 0/5 [00:00<?, ?it/s]"
      ],
      "application/vnd.jupyter.widget-view+json": {
       "version_major": 2,
       "version_minor": 0,
       "model_id": "c2e5d64ac74e4590bdd9504466f36ceb"
      }
     },
     "metadata": {},
     "output_type": "display_data"
    },
    {
     "data": {
      "text/plain": [
       "Generate report structure:   0%|          | 0/1 [00:00<?, ?it/s]"
      ],
      "application/vnd.jupyter.widget-view+json": {
       "version_major": 2,
       "version_minor": 0,
       "model_id": "8b27185c12b64c9da936f3c55b3d5775"
      }
     },
     "metadata": {},
     "output_type": "display_data"
    },
    {
     "data": {
      "text/plain": [
       "Render HTML:   0%|          | 0/1 [00:00<?, ?it/s]"
      ],
      "application/vnd.jupyter.widget-view+json": {
       "version_major": 2,
       "version_minor": 0,
       "model_id": "77397e2da0a444998d7ddac65d50ac84"
      }
     },
     "metadata": {},
     "output_type": "display_data"
    },
    {
     "data": {
      "text/plain": [
       "Export report to file:   0%|          | 0/1 [00:00<?, ?it/s]"
      ],
      "application/vnd.jupyter.widget-view+json": {
       "version_major": 2,
       "version_minor": 0,
       "model_id": "020ea8ea1b1b454a8dcbc381c3338a6b"
      }
     },
     "metadata": {},
     "output_type": "display_data"
    },
    {
     "data": {
      "text/plain": [
       "Summarize dataset:   0%|          | 0/5 [00:00<?, ?it/s]"
      ],
      "application/vnd.jupyter.widget-view+json": {
       "version_major": 2,
       "version_minor": 0,
       "model_id": "f1d62ea868034748b21045fabde6a9cf"
      }
     },
     "metadata": {},
     "output_type": "display_data"
    },
    {
     "data": {
      "text/plain": [
       "Generate report structure:   0%|          | 0/1 [00:00<?, ?it/s]"
      ],
      "application/vnd.jupyter.widget-view+json": {
       "version_major": 2,
       "version_minor": 0,
       "model_id": "bc787567708b4760aefcbfd2a2cd0a89"
      }
     },
     "metadata": {},
     "output_type": "display_data"
    },
    {
     "data": {
      "text/plain": [
       "Render HTML:   0%|          | 0/1 [00:00<?, ?it/s]"
      ],
      "application/vnd.jupyter.widget-view+json": {
       "version_major": 2,
       "version_minor": 0,
       "model_id": "269e5f88b4ff4f268b36c4bd19511291"
      }
     },
     "metadata": {},
     "output_type": "display_data"
    },
    {
     "data": {
      "text/plain": [
       "Export report to file:   0%|          | 0/1 [00:00<?, ?it/s]"
      ],
      "application/vnd.jupyter.widget-view+json": {
       "version_major": 2,
       "version_minor": 0,
       "model_id": "1d9b8d160b1a4d5784d1c745d5368597"
      }
     },
     "metadata": {},
     "output_type": "display_data"
    },
    {
     "data": {
      "text/plain": [
       "Summarize dataset:   0%|          | 0/5 [00:00<?, ?it/s]"
      ],
      "application/vnd.jupyter.widget-view+json": {
       "version_major": 2,
       "version_minor": 0,
       "model_id": "e2d57e94f9d4438ea75f71a61856e3e3"
      }
     },
     "metadata": {},
     "output_type": "display_data"
    },
    {
     "data": {
      "text/plain": [
       "Generate report structure:   0%|          | 0/1 [00:00<?, ?it/s]"
      ],
      "application/vnd.jupyter.widget-view+json": {
       "version_major": 2,
       "version_minor": 0,
       "model_id": "48807da972de4382ae1c97f1056f0117"
      }
     },
     "metadata": {},
     "output_type": "display_data"
    },
    {
     "data": {
      "text/plain": [
       "Render HTML:   0%|          | 0/1 [00:00<?, ?it/s]"
      ],
      "application/vnd.jupyter.widget-view+json": {
       "version_major": 2,
       "version_minor": 0,
       "model_id": "bc8de65eb5ee444d887b2abdd7018186"
      }
     },
     "metadata": {},
     "output_type": "display_data"
    },
    {
     "data": {
      "text/plain": [
       "Export report to file:   0%|          | 0/1 [00:00<?, ?it/s]"
      ],
      "application/vnd.jupyter.widget-view+json": {
       "version_major": 2,
       "version_minor": 0,
       "model_id": "f1ebf52244224097bbcb7bbd6207e339"
      }
     },
     "metadata": {},
     "output_type": "display_data"
    },
    {
     "data": {
      "text/plain": [
       "Summarize dataset:   0%|          | 0/5 [00:00<?, ?it/s]"
      ],
      "application/vnd.jupyter.widget-view+json": {
       "version_major": 2,
       "version_minor": 0,
       "model_id": "35b1b9fde52e478f91c86122e2a0ef8d"
      }
     },
     "metadata": {},
     "output_type": "display_data"
    },
    {
     "ename": "MemoryError",
     "evalue": "Unable to allocate 4.10 GiB for an array with shape (550744383,) and data type int64",
     "output_type": "error",
     "traceback": [
      "\u001B[1;31m---------------------------------------------------------------------------\u001B[0m",
      "\u001B[1;31mMemoryError\u001B[0m                               Traceback (most recent call last)",
      "Cell \u001B[1;32mIn[5], line 6\u001B[0m\n\u001B[0;32m      4\u001B[0m payers_profile\u001B[38;5;241m.\u001B[39mto_file(\u001B[38;5;124m\"\u001B[39m\u001B[38;5;124mpayers.html\u001B[39m\u001B[38;5;124m\"\u001B[39m)\n\u001B[0;32m      5\u001B[0m patients_profile\u001B[38;5;241m.\u001B[39mto_file(\u001B[38;5;124m\"\u001B[39m\u001B[38;5;124mpatients.html\u001B[39m\u001B[38;5;124m\"\u001B[39m)\n\u001B[1;32m----> 6\u001B[0m \u001B[43mprocedures_profile\u001B[49m\u001B[38;5;241;43m.\u001B[39;49m\u001B[43mto_file\u001B[49m\u001B[43m(\u001B[49m\u001B[38;5;124;43m\"\u001B[39;49m\u001B[38;5;124;43mprocedures.html\u001B[39;49m\u001B[38;5;124;43m\"\u001B[39;49m\u001B[43m)\u001B[49m\n",
      "File \u001B[1;32m~\\miniconda3\\envs\\records\\Lib\\site-packages\\ydata_profiling\\profile_report.py:379\u001B[0m, in \u001B[0;36mProfileReport.to_file\u001B[1;34m(self, output_file, silent)\u001B[0m\n\u001B[0;32m    376\u001B[0m         \u001B[38;5;28mself\u001B[39m\u001B[38;5;241m.\u001B[39mconfig\u001B[38;5;241m.\u001B[39mhtml\u001B[38;5;241m.\u001B[39massets_prefix \u001B[38;5;241m=\u001B[39m \u001B[38;5;28mstr\u001B[39m(output_file\u001B[38;5;241m.\u001B[39mstem) \u001B[38;5;241m+\u001B[39m \u001B[38;5;124m\"\u001B[39m\u001B[38;5;124m_assets\u001B[39m\u001B[38;5;124m\"\u001B[39m\n\u001B[0;32m    377\u001B[0m     create_html_assets(\u001B[38;5;28mself\u001B[39m\u001B[38;5;241m.\u001B[39mconfig, output_file)\n\u001B[1;32m--> 379\u001B[0m data \u001B[38;5;241m=\u001B[39m \u001B[38;5;28;43mself\u001B[39;49m\u001B[38;5;241;43m.\u001B[39;49m\u001B[43mto_html\u001B[49m\u001B[43m(\u001B[49m\u001B[43m)\u001B[49m\n\u001B[0;32m    381\u001B[0m \u001B[38;5;28;01mif\u001B[39;00m output_file\u001B[38;5;241m.\u001B[39msuffix \u001B[38;5;241m!=\u001B[39m \u001B[38;5;124m\"\u001B[39m\u001B[38;5;124m.html\u001B[39m\u001B[38;5;124m\"\u001B[39m:\n\u001B[0;32m    382\u001B[0m     suffix \u001B[38;5;241m=\u001B[39m output_file\u001B[38;5;241m.\u001B[39msuffix\n",
      "File \u001B[1;32m~\\miniconda3\\envs\\records\\Lib\\site-packages\\ydata_profiling\\profile_report.py:496\u001B[0m, in \u001B[0;36mProfileReport.to_html\u001B[1;34m(self)\u001B[0m\n\u001B[0;32m    488\u001B[0m \u001B[38;5;28;01mdef\u001B[39;00m \u001B[38;5;21mto_html\u001B[39m(\u001B[38;5;28mself\u001B[39m) \u001B[38;5;241m-\u001B[39m\u001B[38;5;241m>\u001B[39m \u001B[38;5;28mstr\u001B[39m:\n\u001B[0;32m    489\u001B[0m \u001B[38;5;250m    \u001B[39m\u001B[38;5;124;03m\"\"\"Generate and return complete template as lengthy string\u001B[39;00m\n\u001B[0;32m    490\u001B[0m \u001B[38;5;124;03m        for using with frameworks.\u001B[39;00m\n\u001B[0;32m    491\u001B[0m \n\u001B[1;32m   (...)\u001B[0m\n\u001B[0;32m    494\u001B[0m \n\u001B[0;32m    495\u001B[0m \u001B[38;5;124;03m    \"\"\"\u001B[39;00m\n\u001B[1;32m--> 496\u001B[0m     \u001B[38;5;28;01mreturn\u001B[39;00m \u001B[38;5;28;43mself\u001B[39;49m\u001B[38;5;241;43m.\u001B[39;49m\u001B[43mhtml\u001B[49m\n",
      "File \u001B[1;32m~\\miniconda3\\envs\\records\\Lib\\site-packages\\ydata_profiling\\profile_report.py:292\u001B[0m, in \u001B[0;36mProfileReport.html\u001B[1;34m(self)\u001B[0m\n\u001B[0;32m    289\u001B[0m \u001B[38;5;129m@property\u001B[39m\n\u001B[0;32m    290\u001B[0m \u001B[38;5;28;01mdef\u001B[39;00m \u001B[38;5;21mhtml\u001B[39m(\u001B[38;5;28mself\u001B[39m) \u001B[38;5;241m-\u001B[39m\u001B[38;5;241m>\u001B[39m \u001B[38;5;28mstr\u001B[39m:\n\u001B[0;32m    291\u001B[0m     \u001B[38;5;28;01mif\u001B[39;00m \u001B[38;5;28mself\u001B[39m\u001B[38;5;241m.\u001B[39m_html \u001B[38;5;129;01mis\u001B[39;00m \u001B[38;5;28;01mNone\u001B[39;00m:\n\u001B[1;32m--> 292\u001B[0m         \u001B[38;5;28mself\u001B[39m\u001B[38;5;241m.\u001B[39m_html \u001B[38;5;241m=\u001B[39m \u001B[38;5;28;43mself\u001B[39;49m\u001B[38;5;241;43m.\u001B[39;49m\u001B[43m_render_html\u001B[49m\u001B[43m(\u001B[49m\u001B[43m)\u001B[49m\n\u001B[0;32m    293\u001B[0m     \u001B[38;5;28;01mreturn\u001B[39;00m \u001B[38;5;28mself\u001B[39m\u001B[38;5;241m.\u001B[39m_html\n",
      "File \u001B[1;32m~\\miniconda3\\envs\\records\\Lib\\site-packages\\ydata_profiling\\profile_report.py:409\u001B[0m, in \u001B[0;36mProfileReport._render_html\u001B[1;34m(self)\u001B[0m\n\u001B[0;32m    406\u001B[0m \u001B[38;5;28;01mdef\u001B[39;00m \u001B[38;5;21m_render_html\u001B[39m(\u001B[38;5;28mself\u001B[39m) \u001B[38;5;241m-\u001B[39m\u001B[38;5;241m>\u001B[39m \u001B[38;5;28mstr\u001B[39m:\n\u001B[0;32m    407\u001B[0m     \u001B[38;5;28;01mfrom\u001B[39;00m \u001B[38;5;21;01mydata_profiling\u001B[39;00m\u001B[38;5;21;01m.\u001B[39;00m\u001B[38;5;21;01mreport\u001B[39;00m\u001B[38;5;21;01m.\u001B[39;00m\u001B[38;5;21;01mpresentation\u001B[39;00m\u001B[38;5;21;01m.\u001B[39;00m\u001B[38;5;21;01mflavours\u001B[39;00m \u001B[38;5;28;01mimport\u001B[39;00m HTMLReport\n\u001B[1;32m--> 409\u001B[0m     report \u001B[38;5;241m=\u001B[39m \u001B[38;5;28;43mself\u001B[39;49m\u001B[38;5;241;43m.\u001B[39;49m\u001B[43mreport\u001B[49m\n\u001B[0;32m    411\u001B[0m     \u001B[38;5;28;01mwith\u001B[39;00m tqdm(\n\u001B[0;32m    412\u001B[0m         total\u001B[38;5;241m=\u001B[39m\u001B[38;5;241m1\u001B[39m, desc\u001B[38;5;241m=\u001B[39m\u001B[38;5;124m\"\u001B[39m\u001B[38;5;124mRender HTML\u001B[39m\u001B[38;5;124m\"\u001B[39m, disable\u001B[38;5;241m=\u001B[39m\u001B[38;5;129;01mnot\u001B[39;00m \u001B[38;5;28mself\u001B[39m\u001B[38;5;241m.\u001B[39mconfig\u001B[38;5;241m.\u001B[39mprogress_bar\n\u001B[0;32m    413\u001B[0m     ) \u001B[38;5;28;01mas\u001B[39;00m pbar:\n\u001B[0;32m    414\u001B[0m         html \u001B[38;5;241m=\u001B[39m HTMLReport(copy\u001B[38;5;241m.\u001B[39mdeepcopy(report))\u001B[38;5;241m.\u001B[39mrender(\n\u001B[0;32m    415\u001B[0m             nav\u001B[38;5;241m=\u001B[39m\u001B[38;5;28mself\u001B[39m\u001B[38;5;241m.\u001B[39mconfig\u001B[38;5;241m.\u001B[39mhtml\u001B[38;5;241m.\u001B[39mnavbar_show,\n\u001B[0;32m    416\u001B[0m             offline\u001B[38;5;241m=\u001B[39m\u001B[38;5;28mself\u001B[39m\u001B[38;5;241m.\u001B[39mconfig\u001B[38;5;241m.\u001B[39mhtml\u001B[38;5;241m.\u001B[39muse_local_assets,\n\u001B[1;32m   (...)\u001B[0m\n\u001B[0;32m    424\u001B[0m             version\u001B[38;5;241m=\u001B[39m\u001B[38;5;28mself\u001B[39m\u001B[38;5;241m.\u001B[39mdescription_set\u001B[38;5;241m.\u001B[39mpackage[\u001B[38;5;124m\"\u001B[39m\u001B[38;5;124mydata_profiling_version\u001B[39m\u001B[38;5;124m\"\u001B[39m],\n\u001B[0;32m    425\u001B[0m         )\n",
      "File \u001B[1;32m~\\miniconda3\\envs\\records\\Lib\\site-packages\\ydata_profiling\\profile_report.py:286\u001B[0m, in \u001B[0;36mProfileReport.report\u001B[1;34m(self)\u001B[0m\n\u001B[0;32m    283\u001B[0m \u001B[38;5;129m@property\u001B[39m\n\u001B[0;32m    284\u001B[0m \u001B[38;5;28;01mdef\u001B[39;00m \u001B[38;5;21mreport\u001B[39m(\u001B[38;5;28mself\u001B[39m) \u001B[38;5;241m-\u001B[39m\u001B[38;5;241m>\u001B[39m Root:\n\u001B[0;32m    285\u001B[0m     \u001B[38;5;28;01mif\u001B[39;00m \u001B[38;5;28mself\u001B[39m\u001B[38;5;241m.\u001B[39m_report \u001B[38;5;129;01mis\u001B[39;00m \u001B[38;5;28;01mNone\u001B[39;00m:\n\u001B[1;32m--> 286\u001B[0m         \u001B[38;5;28mself\u001B[39m\u001B[38;5;241m.\u001B[39m_report \u001B[38;5;241m=\u001B[39m get_report_structure(\u001B[38;5;28mself\u001B[39m\u001B[38;5;241m.\u001B[39mconfig, \u001B[38;5;28;43mself\u001B[39;49m\u001B[38;5;241;43m.\u001B[39;49m\u001B[43mdescription_set\u001B[49m)\n\u001B[0;32m    287\u001B[0m     \u001B[38;5;28;01mreturn\u001B[39;00m \u001B[38;5;28mself\u001B[39m\u001B[38;5;241m.\u001B[39m_report\n",
      "File \u001B[1;32m~\\miniconda3\\envs\\records\\Lib\\site-packages\\ydata_profiling\\profile_report.py:268\u001B[0m, in \u001B[0;36mProfileReport.description_set\u001B[1;34m(self)\u001B[0m\n\u001B[0;32m    265\u001B[0m \u001B[38;5;129m@property\u001B[39m\n\u001B[0;32m    266\u001B[0m \u001B[38;5;28;01mdef\u001B[39;00m \u001B[38;5;21mdescription_set\u001B[39m(\u001B[38;5;28mself\u001B[39m) \u001B[38;5;241m-\u001B[39m\u001B[38;5;241m>\u001B[39m BaseDescription:\n\u001B[0;32m    267\u001B[0m     \u001B[38;5;28;01mif\u001B[39;00m \u001B[38;5;28mself\u001B[39m\u001B[38;5;241m.\u001B[39m_description_set \u001B[38;5;129;01mis\u001B[39;00m \u001B[38;5;28;01mNone\u001B[39;00m:\n\u001B[1;32m--> 268\u001B[0m         \u001B[38;5;28mself\u001B[39m\u001B[38;5;241m.\u001B[39m_description_set \u001B[38;5;241m=\u001B[39m \u001B[43mdescribe_df\u001B[49m\u001B[43m(\u001B[49m\n\u001B[0;32m    269\u001B[0m \u001B[43m            \u001B[49m\u001B[38;5;28;43mself\u001B[39;49m\u001B[38;5;241;43m.\u001B[39;49m\u001B[43mconfig\u001B[49m\u001B[43m,\u001B[49m\n\u001B[0;32m    270\u001B[0m \u001B[43m            \u001B[49m\u001B[38;5;28;43mself\u001B[39;49m\u001B[38;5;241;43m.\u001B[39;49m\u001B[43mdf\u001B[49m\u001B[43m,\u001B[49m\n\u001B[0;32m    271\u001B[0m \u001B[43m            \u001B[49m\u001B[38;5;28;43mself\u001B[39;49m\u001B[38;5;241;43m.\u001B[39;49m\u001B[43msummarizer\u001B[49m\u001B[43m,\u001B[49m\n\u001B[0;32m    272\u001B[0m \u001B[43m            \u001B[49m\u001B[38;5;28;43mself\u001B[39;49m\u001B[38;5;241;43m.\u001B[39;49m\u001B[43mtypeset\u001B[49m\u001B[43m,\u001B[49m\n\u001B[0;32m    273\u001B[0m \u001B[43m            \u001B[49m\u001B[38;5;28;43mself\u001B[39;49m\u001B[38;5;241;43m.\u001B[39;49m\u001B[43m_sample\u001B[49m\u001B[43m,\u001B[49m\n\u001B[0;32m    274\u001B[0m \u001B[43m        \u001B[49m\u001B[43m)\u001B[49m\n\u001B[0;32m    275\u001B[0m     \u001B[38;5;28;01mreturn\u001B[39;00m \u001B[38;5;28mself\u001B[39m\u001B[38;5;241m.\u001B[39m_description_set\n",
      "File \u001B[1;32m~\\miniconda3\\envs\\records\\Lib\\site-packages\\ydata_profiling\\model\\describe.py:74\u001B[0m, in \u001B[0;36mdescribe\u001B[1;34m(config, df, summarizer, typeset, sample)\u001B[0m\n\u001B[0;32m     72\u001B[0m \u001B[38;5;66;03m# Variable-specific\u001B[39;00m\n\u001B[0;32m     73\u001B[0m pbar\u001B[38;5;241m.\u001B[39mtotal \u001B[38;5;241m+\u001B[39m\u001B[38;5;241m=\u001B[39m \u001B[38;5;28mlen\u001B[39m(df\u001B[38;5;241m.\u001B[39mcolumns)\n\u001B[1;32m---> 74\u001B[0m series_description \u001B[38;5;241m=\u001B[39m \u001B[43mget_series_descriptions\u001B[49m\u001B[43m(\u001B[49m\n\u001B[0;32m     75\u001B[0m \u001B[43m    \u001B[49m\u001B[43mconfig\u001B[49m\u001B[43m,\u001B[49m\u001B[43m \u001B[49m\u001B[43mdf\u001B[49m\u001B[43m,\u001B[49m\u001B[43m \u001B[49m\u001B[43msummarizer\u001B[49m\u001B[43m,\u001B[49m\u001B[43m \u001B[49m\u001B[43mtypeset\u001B[49m\u001B[43m,\u001B[49m\u001B[43m \u001B[49m\u001B[43mpbar\u001B[49m\n\u001B[0;32m     76\u001B[0m \u001B[43m\u001B[49m\u001B[43m)\u001B[49m\n\u001B[0;32m     78\u001B[0m pbar\u001B[38;5;241m.\u001B[39mset_postfix_str(\u001B[38;5;124m\"\u001B[39m\u001B[38;5;124mGet variable types\u001B[39m\u001B[38;5;124m\"\u001B[39m)\n\u001B[0;32m     79\u001B[0m pbar\u001B[38;5;241m.\u001B[39mtotal \u001B[38;5;241m+\u001B[39m\u001B[38;5;241m=\u001B[39m \u001B[38;5;241m1\u001B[39m\n",
      "File \u001B[1;32m~\\miniconda3\\envs\\records\\Lib\\site-packages\\multimethod\\__init__.py:375\u001B[0m, in \u001B[0;36mmultimethod.__call__\u001B[1;34m(self, *args, **kwargs)\u001B[0m\n\u001B[0;32m    373\u001B[0m func \u001B[38;5;241m=\u001B[39m \u001B[38;5;28mself\u001B[39m\u001B[38;5;241m.\u001B[39mdispatch(\u001B[38;5;241m*\u001B[39margs)\n\u001B[0;32m    374\u001B[0m \u001B[38;5;28;01mtry\u001B[39;00m:\n\u001B[1;32m--> 375\u001B[0m     \u001B[38;5;28;01mreturn\u001B[39;00m \u001B[43mfunc\u001B[49m\u001B[43m(\u001B[49m\u001B[38;5;241;43m*\u001B[39;49m\u001B[43margs\u001B[49m\u001B[43m,\u001B[49m\u001B[43m \u001B[49m\u001B[38;5;241;43m*\u001B[39;49m\u001B[38;5;241;43m*\u001B[39;49m\u001B[43mkwargs\u001B[49m\u001B[43m)\u001B[49m\n\u001B[0;32m    376\u001B[0m \u001B[38;5;28;01mexcept\u001B[39;00m \u001B[38;5;167;01mTypeError\u001B[39;00m \u001B[38;5;28;01mas\u001B[39;00m ex:\n\u001B[0;32m    377\u001B[0m     \u001B[38;5;28;01mraise\u001B[39;00m DispatchError(\u001B[38;5;124mf\u001B[39m\u001B[38;5;124m\"\u001B[39m\u001B[38;5;124mFunction \u001B[39m\u001B[38;5;132;01m{\u001B[39;00mfunc\u001B[38;5;241m.\u001B[39m\u001B[38;5;18m__code__\u001B[39m\u001B[38;5;132;01m}\u001B[39;00m\u001B[38;5;124m\"\u001B[39m) \u001B[38;5;28;01mfrom\u001B[39;00m \u001B[38;5;21;01mex\u001B[39;00m\n",
      "File \u001B[1;32m~\\miniconda3\\envs\\records\\Lib\\site-packages\\ydata_profiling\\model\\pandas\\summary_pandas.py:99\u001B[0m, in \u001B[0;36mpandas_get_series_descriptions\u001B[1;34m(config, df, summarizer, typeset, pbar)\u001B[0m\n\u001B[0;32m     96\u001B[0m \u001B[38;5;28;01melse\u001B[39;00m:\n\u001B[0;32m     97\u001B[0m     \u001B[38;5;66;03m# TODO: use `Pool` for Linux-based systems\u001B[39;00m\n\u001B[0;32m     98\u001B[0m     \u001B[38;5;28;01mwith\u001B[39;00m multiprocessing\u001B[38;5;241m.\u001B[39mpool\u001B[38;5;241m.\u001B[39mThreadPool(pool_size) \u001B[38;5;28;01mas\u001B[39;00m executor:\n\u001B[1;32m---> 99\u001B[0m \u001B[43m        \u001B[49m\u001B[38;5;28;43;01mfor\u001B[39;49;00m\u001B[43m \u001B[49m\u001B[43mi\u001B[49m\u001B[43m,\u001B[49m\u001B[43m \u001B[49m\u001B[43m(\u001B[49m\u001B[43mcolumn\u001B[49m\u001B[43m,\u001B[49m\u001B[43m \u001B[49m\u001B[43mdescription\u001B[49m\u001B[43m)\u001B[49m\u001B[43m \u001B[49m\u001B[38;5;129;43;01min\u001B[39;49;00m\u001B[43m \u001B[49m\u001B[38;5;28;43menumerate\u001B[39;49m\u001B[43m(\u001B[49m\n\u001B[0;32m    100\u001B[0m \u001B[43m            \u001B[49m\u001B[43mexecutor\u001B[49m\u001B[38;5;241;43m.\u001B[39;49m\u001B[43mimap_unordered\u001B[49m\u001B[43m(\u001B[49m\u001B[43mmultiprocess_1d\u001B[49m\u001B[43m,\u001B[49m\u001B[43m \u001B[49m\u001B[43margs\u001B[49m\u001B[43m)\u001B[49m\n\u001B[0;32m    101\u001B[0m \u001B[43m        \u001B[49m\u001B[43m)\u001B[49m\u001B[43m:\u001B[49m\n\u001B[0;32m    102\u001B[0m \u001B[43m            \u001B[49m\u001B[43mpbar\u001B[49m\u001B[38;5;241;43m.\u001B[39;49m\u001B[43mset_postfix_str\u001B[49m\u001B[43m(\u001B[49m\u001B[38;5;124;43mf\u001B[39;49m\u001B[38;5;124;43m\"\u001B[39;49m\u001B[38;5;124;43mDescribe variable:\u001B[39;49m\u001B[38;5;132;43;01m{\u001B[39;49;00m\u001B[43mcolumn\u001B[49m\u001B[38;5;132;43;01m}\u001B[39;49;00m\u001B[38;5;124;43m\"\u001B[39;49m\u001B[43m)\u001B[49m\n\u001B[0;32m    103\u001B[0m \u001B[43m            \u001B[49m\u001B[43mseries_description\u001B[49m\u001B[43m[\u001B[49m\u001B[43mcolumn\u001B[49m\u001B[43m]\u001B[49m\u001B[43m \u001B[49m\u001B[38;5;241;43m=\u001B[39;49m\u001B[43m \u001B[49m\u001B[43mdescription\u001B[49m\n",
      "File \u001B[1;32m~\\miniconda3\\envs\\records\\Lib\\multiprocessing\\pool.py:873\u001B[0m, in \u001B[0;36mIMapIterator.next\u001B[1;34m(self, timeout)\u001B[0m\n\u001B[0;32m    871\u001B[0m \u001B[38;5;28;01mif\u001B[39;00m success:\n\u001B[0;32m    872\u001B[0m     \u001B[38;5;28;01mreturn\u001B[39;00m value\n\u001B[1;32m--> 873\u001B[0m \u001B[38;5;28;01mraise\u001B[39;00m value\n",
      "File \u001B[1;32m~\\miniconda3\\envs\\records\\Lib\\multiprocessing\\pool.py:125\u001B[0m, in \u001B[0;36mworker\u001B[1;34m(inqueue, outqueue, initializer, initargs, maxtasks, wrap_exception)\u001B[0m\n\u001B[0;32m    123\u001B[0m job, i, func, args, kwds \u001B[38;5;241m=\u001B[39m task\n\u001B[0;32m    124\u001B[0m \u001B[38;5;28;01mtry\u001B[39;00m:\n\u001B[1;32m--> 125\u001B[0m     result \u001B[38;5;241m=\u001B[39m (\u001B[38;5;28;01mTrue\u001B[39;00m, \u001B[43mfunc\u001B[49m\u001B[43m(\u001B[49m\u001B[38;5;241;43m*\u001B[39;49m\u001B[43margs\u001B[49m\u001B[43m,\u001B[49m\u001B[43m \u001B[49m\u001B[38;5;241;43m*\u001B[39;49m\u001B[38;5;241;43m*\u001B[39;49m\u001B[43mkwds\u001B[49m\u001B[43m)\u001B[49m)\n\u001B[0;32m    126\u001B[0m \u001B[38;5;28;01mexcept\u001B[39;00m \u001B[38;5;167;01mException\u001B[39;00m \u001B[38;5;28;01mas\u001B[39;00m e:\n\u001B[0;32m    127\u001B[0m     \u001B[38;5;28;01mif\u001B[39;00m wrap_exception \u001B[38;5;129;01mand\u001B[39;00m func \u001B[38;5;129;01mis\u001B[39;00m \u001B[38;5;129;01mnot\u001B[39;00m _helper_reraises_exception:\n",
      "File \u001B[1;32m~\\miniconda3\\envs\\records\\Lib\\site-packages\\ydata_profiling\\model\\pandas\\summary_pandas.py:79\u001B[0m, in \u001B[0;36mpandas_get_series_descriptions.<locals>.multiprocess_1d\u001B[1;34m(args)\u001B[0m\n\u001B[0;32m     69\u001B[0m \u001B[38;5;250m\u001B[39m\u001B[38;5;124;03m\"\"\"Wrapper to process series in parallel.\u001B[39;00m\n\u001B[0;32m     70\u001B[0m \n\u001B[0;32m     71\u001B[0m \u001B[38;5;124;03mArgs:\u001B[39;00m\n\u001B[1;32m   (...)\u001B[0m\n\u001B[0;32m     76\u001B[0m \u001B[38;5;124;03m    A tuple with column and the series description.\u001B[39;00m\n\u001B[0;32m     77\u001B[0m \u001B[38;5;124;03m\"\"\"\u001B[39;00m\n\u001B[0;32m     78\u001B[0m column, series \u001B[38;5;241m=\u001B[39m args\n\u001B[1;32m---> 79\u001B[0m \u001B[38;5;28;01mreturn\u001B[39;00m column, \u001B[43mdescribe_1d\u001B[49m\u001B[43m(\u001B[49m\u001B[43mconfig\u001B[49m\u001B[43m,\u001B[49m\u001B[43m \u001B[49m\u001B[43mseries\u001B[49m\u001B[43m,\u001B[49m\u001B[43m \u001B[49m\u001B[43msummarizer\u001B[49m\u001B[43m,\u001B[49m\u001B[43m \u001B[49m\u001B[43mtypeset\u001B[49m\u001B[43m)\u001B[49m\n",
      "File \u001B[1;32m~\\miniconda3\\envs\\records\\Lib\\site-packages\\multimethod\\__init__.py:375\u001B[0m, in \u001B[0;36mmultimethod.__call__\u001B[1;34m(self, *args, **kwargs)\u001B[0m\n\u001B[0;32m    373\u001B[0m func \u001B[38;5;241m=\u001B[39m \u001B[38;5;28mself\u001B[39m\u001B[38;5;241m.\u001B[39mdispatch(\u001B[38;5;241m*\u001B[39margs)\n\u001B[0;32m    374\u001B[0m \u001B[38;5;28;01mtry\u001B[39;00m:\n\u001B[1;32m--> 375\u001B[0m     \u001B[38;5;28;01mreturn\u001B[39;00m \u001B[43mfunc\u001B[49m\u001B[43m(\u001B[49m\u001B[38;5;241;43m*\u001B[39;49m\u001B[43margs\u001B[49m\u001B[43m,\u001B[49m\u001B[43m \u001B[49m\u001B[38;5;241;43m*\u001B[39;49m\u001B[38;5;241;43m*\u001B[39;49m\u001B[43mkwargs\u001B[49m\u001B[43m)\u001B[49m\n\u001B[0;32m    376\u001B[0m \u001B[38;5;28;01mexcept\u001B[39;00m \u001B[38;5;167;01mTypeError\u001B[39;00m \u001B[38;5;28;01mas\u001B[39;00m ex:\n\u001B[0;32m    377\u001B[0m     \u001B[38;5;28;01mraise\u001B[39;00m DispatchError(\u001B[38;5;124mf\u001B[39m\u001B[38;5;124m\"\u001B[39m\u001B[38;5;124mFunction \u001B[39m\u001B[38;5;132;01m{\u001B[39;00mfunc\u001B[38;5;241m.\u001B[39m\u001B[38;5;18m__code__\u001B[39m\u001B[38;5;132;01m}\u001B[39;00m\u001B[38;5;124m\"\u001B[39m) \u001B[38;5;28;01mfrom\u001B[39;00m \u001B[38;5;21;01mex\u001B[39;00m\n",
      "File \u001B[1;32m~\\miniconda3\\envs\\records\\Lib\\site-packages\\ydata_profiling\\model\\pandas\\summary_pandas.py:57\u001B[0m, in \u001B[0;36mpandas_describe_1d\u001B[1;34m(config, series, summarizer, typeset)\u001B[0m\n\u001B[0;32m     54\u001B[0m     vtype \u001B[38;5;241m=\u001B[39m typeset\u001B[38;5;241m.\u001B[39mdetect_type(series)\n\u001B[0;32m     56\u001B[0m typeset\u001B[38;5;241m.\u001B[39mtype_schema[series\u001B[38;5;241m.\u001B[39mname] \u001B[38;5;241m=\u001B[39m vtype\n\u001B[1;32m---> 57\u001B[0m \u001B[38;5;28;01mreturn\u001B[39;00m \u001B[43msummarizer\u001B[49m\u001B[38;5;241;43m.\u001B[39;49m\u001B[43msummarize\u001B[49m\u001B[43m(\u001B[49m\u001B[43mconfig\u001B[49m\u001B[43m,\u001B[49m\u001B[43m \u001B[49m\u001B[43mseries\u001B[49m\u001B[43m,\u001B[49m\u001B[43m \u001B[49m\u001B[43mdtype\u001B[49m\u001B[38;5;241;43m=\u001B[39;49m\u001B[43mvtype\u001B[49m\u001B[43m)\u001B[49m\n",
      "File \u001B[1;32m~\\miniconda3\\envs\\records\\Lib\\site-packages\\ydata_profiling\\model\\summarizer.py:42\u001B[0m, in \u001B[0;36mBaseSummarizer.summarize\u001B[1;34m(self, config, series, dtype)\u001B[0m\n\u001B[0;32m     34\u001B[0m \u001B[38;5;28;01mdef\u001B[39;00m \u001B[38;5;21msummarize\u001B[39m(\n\u001B[0;32m     35\u001B[0m     \u001B[38;5;28mself\u001B[39m, config: Settings, series: pd\u001B[38;5;241m.\u001B[39mSeries, dtype: Type[VisionsBaseType]\n\u001B[0;32m     36\u001B[0m ) \u001B[38;5;241m-\u001B[39m\u001B[38;5;241m>\u001B[39m \u001B[38;5;28mdict\u001B[39m:\n\u001B[0;32m     37\u001B[0m \u001B[38;5;250m    \u001B[39m\u001B[38;5;124;03m\"\"\"\u001B[39;00m\n\u001B[0;32m     38\u001B[0m \n\u001B[0;32m     39\u001B[0m \u001B[38;5;124;03m    Returns:\u001B[39;00m\n\u001B[0;32m     40\u001B[0m \u001B[38;5;124;03m        object:\u001B[39;00m\n\u001B[0;32m     41\u001B[0m \u001B[38;5;124;03m    \"\"\"\u001B[39;00m\n\u001B[1;32m---> 42\u001B[0m     _, _, summary \u001B[38;5;241m=\u001B[39m \u001B[38;5;28;43mself\u001B[39;49m\u001B[38;5;241;43m.\u001B[39;49m\u001B[43mhandle\u001B[49m\u001B[43m(\u001B[49m\u001B[38;5;28;43mstr\u001B[39;49m\u001B[43m(\u001B[49m\u001B[43mdtype\u001B[49m\u001B[43m)\u001B[49m\u001B[43m,\u001B[49m\u001B[43m \u001B[49m\u001B[43mconfig\u001B[49m\u001B[43m,\u001B[49m\u001B[43m \u001B[49m\u001B[43mseries\u001B[49m\u001B[43m,\u001B[49m\u001B[43m \u001B[49m\u001B[43m{\u001B[49m\u001B[38;5;124;43m\"\u001B[39;49m\u001B[38;5;124;43mtype\u001B[39;49m\u001B[38;5;124;43m\"\u001B[39;49m\u001B[43m:\u001B[49m\u001B[43m \u001B[49m\u001B[38;5;28;43mstr\u001B[39;49m\u001B[43m(\u001B[49m\u001B[43mdtype\u001B[49m\u001B[43m)\u001B[49m\u001B[43m}\u001B[49m\u001B[43m)\u001B[49m\n\u001B[0;32m     43\u001B[0m     \u001B[38;5;28;01mreturn\u001B[39;00m summary\n",
      "File \u001B[1;32m~\\miniconda3\\envs\\records\\Lib\\site-packages\\ydata_profiling\\model\\handler.py:62\u001B[0m, in \u001B[0;36mHandler.handle\u001B[1;34m(self, dtype, *args, **kwargs)\u001B[0m\n\u001B[0;32m     60\u001B[0m funcs \u001B[38;5;241m=\u001B[39m \u001B[38;5;28mself\u001B[39m\u001B[38;5;241m.\u001B[39mmapping\u001B[38;5;241m.\u001B[39mget(dtype, [])\n\u001B[0;32m     61\u001B[0m op \u001B[38;5;241m=\u001B[39m compose(funcs)\n\u001B[1;32m---> 62\u001B[0m \u001B[38;5;28;01mreturn\u001B[39;00m \u001B[43mop\u001B[49m\u001B[43m(\u001B[49m\u001B[38;5;241;43m*\u001B[39;49m\u001B[43margs\u001B[49m\u001B[43m)\u001B[49m\n",
      "File \u001B[1;32m~\\miniconda3\\envs\\records\\Lib\\site-packages\\ydata_profiling\\model\\handler.py:21\u001B[0m, in \u001B[0;36mcompose.<locals>.func.<locals>.func2\u001B[1;34m(*x)\u001B[0m\n\u001B[0;32m     19\u001B[0m     \u001B[38;5;28;01mreturn\u001B[39;00m f(\u001B[38;5;241m*\u001B[39mx)\n\u001B[0;32m     20\u001B[0m \u001B[38;5;28;01melse\u001B[39;00m:\n\u001B[1;32m---> 21\u001B[0m     \u001B[38;5;28;01mreturn\u001B[39;00m \u001B[43mf\u001B[49m\u001B[43m(\u001B[49m\u001B[38;5;241;43m*\u001B[39;49m\u001B[43mres\u001B[49m\u001B[43m)\u001B[49m\n",
      "File \u001B[1;32m~\\miniconda3\\envs\\records\\Lib\\site-packages\\ydata_profiling\\model\\handler.py:21\u001B[0m, in \u001B[0;36mcompose.<locals>.func.<locals>.func2\u001B[1;34m(*x)\u001B[0m\n\u001B[0;32m     19\u001B[0m     \u001B[38;5;28;01mreturn\u001B[39;00m f(\u001B[38;5;241m*\u001B[39mx)\n\u001B[0;32m     20\u001B[0m \u001B[38;5;28;01melse\u001B[39;00m:\n\u001B[1;32m---> 21\u001B[0m     \u001B[38;5;28;01mreturn\u001B[39;00m \u001B[43mf\u001B[49m\u001B[43m(\u001B[49m\u001B[38;5;241;43m*\u001B[39;49m\u001B[43mres\u001B[49m\u001B[43m)\u001B[49m\n",
      "File \u001B[1;32m~\\miniconda3\\envs\\records\\Lib\\site-packages\\ydata_profiling\\model\\handler.py:21\u001B[0m, in \u001B[0;36mcompose.<locals>.func.<locals>.func2\u001B[1;34m(*x)\u001B[0m\n\u001B[0;32m     19\u001B[0m     \u001B[38;5;28;01mreturn\u001B[39;00m f(\u001B[38;5;241m*\u001B[39mx)\n\u001B[0;32m     20\u001B[0m \u001B[38;5;28;01melse\u001B[39;00m:\n\u001B[1;32m---> 21\u001B[0m     \u001B[38;5;28;01mreturn\u001B[39;00m \u001B[43mf\u001B[49m\u001B[43m(\u001B[49m\u001B[38;5;241;43m*\u001B[39;49m\u001B[43mres\u001B[49m\u001B[43m)\u001B[49m\n",
      "File \u001B[1;32m~\\miniconda3\\envs\\records\\Lib\\site-packages\\ydata_profiling\\model\\handler.py:17\u001B[0m, in \u001B[0;36mcompose.<locals>.func.<locals>.func2\u001B[1;34m(*x)\u001B[0m\n\u001B[0;32m     16\u001B[0m \u001B[38;5;28;01mdef\u001B[39;00m \u001B[38;5;21mfunc2\u001B[39m(\u001B[38;5;241m*\u001B[39mx) \u001B[38;5;241m-\u001B[39m\u001B[38;5;241m>\u001B[39m Any:\n\u001B[1;32m---> 17\u001B[0m     res \u001B[38;5;241m=\u001B[39m \u001B[43mg\u001B[49m\u001B[43m(\u001B[49m\u001B[38;5;241;43m*\u001B[39;49m\u001B[43mx\u001B[49m\u001B[43m)\u001B[49m\n\u001B[0;32m     18\u001B[0m     \u001B[38;5;28;01mif\u001B[39;00m \u001B[38;5;28mtype\u001B[39m(res) \u001B[38;5;241m==\u001B[39m \u001B[38;5;28mbool\u001B[39m:\n\u001B[0;32m     19\u001B[0m         \u001B[38;5;28;01mreturn\u001B[39;00m f(\u001B[38;5;241m*\u001B[39mx)\n",
      "File \u001B[1;32m~\\miniconda3\\envs\\records\\Lib\\site-packages\\multimethod\\__init__.py:375\u001B[0m, in \u001B[0;36mmultimethod.__call__\u001B[1;34m(self, *args, **kwargs)\u001B[0m\n\u001B[0;32m    373\u001B[0m func \u001B[38;5;241m=\u001B[39m \u001B[38;5;28mself\u001B[39m\u001B[38;5;241m.\u001B[39mdispatch(\u001B[38;5;241m*\u001B[39margs)\n\u001B[0;32m    374\u001B[0m \u001B[38;5;28;01mtry\u001B[39;00m:\n\u001B[1;32m--> 375\u001B[0m     \u001B[38;5;28;01mreturn\u001B[39;00m \u001B[43mfunc\u001B[49m\u001B[43m(\u001B[49m\u001B[38;5;241;43m*\u001B[39;49m\u001B[43margs\u001B[49m\u001B[43m,\u001B[49m\u001B[43m \u001B[49m\u001B[38;5;241;43m*\u001B[39;49m\u001B[38;5;241;43m*\u001B[39;49m\u001B[43mkwargs\u001B[49m\u001B[43m)\u001B[49m\n\u001B[0;32m    376\u001B[0m \u001B[38;5;28;01mexcept\u001B[39;00m \u001B[38;5;167;01mTypeError\u001B[39;00m \u001B[38;5;28;01mas\u001B[39;00m ex:\n\u001B[0;32m    377\u001B[0m     \u001B[38;5;28;01mraise\u001B[39;00m DispatchError(\u001B[38;5;124mf\u001B[39m\u001B[38;5;124m\"\u001B[39m\u001B[38;5;124mFunction \u001B[39m\u001B[38;5;132;01m{\u001B[39;00mfunc\u001B[38;5;241m.\u001B[39m\u001B[38;5;18m__code__\u001B[39m\u001B[38;5;132;01m}\u001B[39;00m\u001B[38;5;124m\"\u001B[39m) \u001B[38;5;28;01mfrom\u001B[39;00m \u001B[38;5;21;01mex\u001B[39;00m\n",
      "File \u001B[1;32m~\\miniconda3\\envs\\records\\Lib\\site-packages\\ydata_profiling\\model\\summary_algorithms.py:73\u001B[0m, in \u001B[0;36mseries_hashable.<locals>.inner\u001B[1;34m(config, series, summary)\u001B[0m\n\u001B[0;32m     71\u001B[0m \u001B[38;5;28;01mif\u001B[39;00m \u001B[38;5;129;01mnot\u001B[39;00m summary[\u001B[38;5;124m\"\u001B[39m\u001B[38;5;124mhashable\u001B[39m\u001B[38;5;124m\"\u001B[39m]:\n\u001B[0;32m     72\u001B[0m     \u001B[38;5;28;01mreturn\u001B[39;00m config, series, summary\n\u001B[1;32m---> 73\u001B[0m \u001B[38;5;28;01mreturn\u001B[39;00m \u001B[43mfn\u001B[49m\u001B[43m(\u001B[49m\u001B[43mconfig\u001B[49m\u001B[43m,\u001B[49m\u001B[43m \u001B[49m\u001B[43mseries\u001B[49m\u001B[43m,\u001B[49m\u001B[43m \u001B[49m\u001B[43msummary\u001B[49m\u001B[43m)\u001B[49m\n",
      "File \u001B[1;32m~\\miniconda3\\envs\\records\\Lib\\site-packages\\ydata_profiling\\model\\summary_algorithms.py:90\u001B[0m, in \u001B[0;36mseries_handle_nulls.<locals>.inner\u001B[1;34m(config, series, summary)\u001B[0m\n\u001B[0;32m     87\u001B[0m \u001B[38;5;28;01mif\u001B[39;00m series\u001B[38;5;241m.\u001B[39mhasnans:\n\u001B[0;32m     88\u001B[0m     series \u001B[38;5;241m=\u001B[39m series\u001B[38;5;241m.\u001B[39mdropna()\n\u001B[1;32m---> 90\u001B[0m \u001B[38;5;28;01mreturn\u001B[39;00m \u001B[43mfn\u001B[49m\u001B[43m(\u001B[49m\u001B[43mconfig\u001B[49m\u001B[43m,\u001B[49m\u001B[43m \u001B[49m\u001B[43mseries\u001B[49m\u001B[43m,\u001B[49m\u001B[43m \u001B[49m\u001B[43msummary\u001B[49m\u001B[43m)\u001B[49m\n",
      "File \u001B[1;32m~\\miniconda3\\envs\\records\\Lib\\site-packages\\ydata_profiling\\model\\pandas\\describe_numeric_pandas.py:131\u001B[0m, in \u001B[0;36mpandas_describe_numeric_1d\u001B[1;34m(config, series, summary)\u001B[0m\n\u001B[0;32m    124\u001B[0m stats\u001B[38;5;241m.\u001B[39mupdate(\n\u001B[0;32m    125\u001B[0m     {\n\u001B[0;32m    126\u001B[0m         \u001B[38;5;124m\"\u001B[39m\u001B[38;5;124mmad\u001B[39m\u001B[38;5;124m\"\u001B[39m: mad(present_values),\n\u001B[0;32m    127\u001B[0m     }\n\u001B[0;32m    128\u001B[0m )\n\u001B[0;32m    130\u001B[0m \u001B[38;5;28;01mif\u001B[39;00m chi_squared_threshold \u001B[38;5;241m>\u001B[39m \u001B[38;5;241m0.0\u001B[39m:\n\u001B[1;32m--> 131\u001B[0m     stats[\u001B[38;5;124m\"\u001B[39m\u001B[38;5;124mchi_squared\u001B[39m\u001B[38;5;124m\"\u001B[39m] \u001B[38;5;241m=\u001B[39m \u001B[43mchi_square\u001B[49m\u001B[43m(\u001B[49m\u001B[43mfinite_values\u001B[49m\u001B[43m)\u001B[49m\n\u001B[0;32m    133\u001B[0m stats[\u001B[38;5;124m\"\u001B[39m\u001B[38;5;124mrange\u001B[39m\u001B[38;5;124m\"\u001B[39m] \u001B[38;5;241m=\u001B[39m stats[\u001B[38;5;124m\"\u001B[39m\u001B[38;5;124mmax\u001B[39m\u001B[38;5;124m\"\u001B[39m] \u001B[38;5;241m-\u001B[39m stats[\u001B[38;5;124m\"\u001B[39m\u001B[38;5;124mmin\u001B[39m\u001B[38;5;124m\"\u001B[39m]\n\u001B[0;32m    134\u001B[0m stats\u001B[38;5;241m.\u001B[39mupdate(\n\u001B[0;32m    135\u001B[0m     {\n\u001B[0;32m    136\u001B[0m         \u001B[38;5;124mf\u001B[39m\u001B[38;5;124m\"\u001B[39m\u001B[38;5;132;01m{\u001B[39;00mpercentile\u001B[38;5;132;01m:\u001B[39;00m\u001B[38;5;124m.0%\u001B[39m\u001B[38;5;132;01m}\u001B[39;00m\u001B[38;5;124m\"\u001B[39m: value\n\u001B[0;32m    137\u001B[0m         \u001B[38;5;28;01mfor\u001B[39;00m percentile, value \u001B[38;5;129;01min\u001B[39;00m series\u001B[38;5;241m.\u001B[39mquantile(quantiles)\u001B[38;5;241m.\u001B[39mto_dict()\u001B[38;5;241m.\u001B[39mitems()\n\u001B[0;32m    138\u001B[0m     }\n\u001B[0;32m    139\u001B[0m )\n",
      "File \u001B[1;32m~\\miniconda3\\envs\\records\\Lib\\site-packages\\ydata_profiling\\model\\summary_algorithms.py:58\u001B[0m, in \u001B[0;36mchi_square\u001B[1;34m(values, histogram)\u001B[0m\n\u001B[0;32m     56\u001B[0m \u001B[38;5;28;01mif\u001B[39;00m histogram \u001B[38;5;129;01mis\u001B[39;00m \u001B[38;5;28;01mNone\u001B[39;00m:\n\u001B[0;32m     57\u001B[0m     bins \u001B[38;5;241m=\u001B[39m np\u001B[38;5;241m.\u001B[39mhistogram_bin_edges(values, bins\u001B[38;5;241m=\u001B[39m\u001B[38;5;124m\"\u001B[39m\u001B[38;5;124mauto\u001B[39m\u001B[38;5;124m\"\u001B[39m)\n\u001B[1;32m---> 58\u001B[0m     histogram, _ \u001B[38;5;241m=\u001B[39m \u001B[43mnp\u001B[49m\u001B[38;5;241;43m.\u001B[39;49m\u001B[43mhistogram\u001B[49m\u001B[43m(\u001B[49m\u001B[43mvalues\u001B[49m\u001B[43m,\u001B[49m\u001B[43m \u001B[49m\u001B[43mbins\u001B[49m\u001B[38;5;241;43m=\u001B[39;49m\u001B[43mbins\u001B[49m\u001B[43m)\u001B[49m\n\u001B[0;32m     59\u001B[0m \u001B[38;5;28;01mif\u001B[39;00m \u001B[38;5;28mlen\u001B[39m(histogram) \u001B[38;5;241m==\u001B[39m \u001B[38;5;241m0\u001B[39m \u001B[38;5;129;01mor\u001B[39;00m np\u001B[38;5;241m.\u001B[39msum(histogram) \u001B[38;5;241m==\u001B[39m \u001B[38;5;241m0\u001B[39m:\n\u001B[0;32m     60\u001B[0m     \u001B[38;5;28;01mreturn\u001B[39;00m {\u001B[38;5;124m\"\u001B[39m\u001B[38;5;124mstatistic\u001B[39m\u001B[38;5;124m\"\u001B[39m: \u001B[38;5;241m0\u001B[39m, \u001B[38;5;124m\"\u001B[39m\u001B[38;5;124mpvalue\u001B[39m\u001B[38;5;124m\"\u001B[39m: \u001B[38;5;241m0\u001B[39m}\n",
      "File \u001B[1;32m~\\miniconda3\\envs\\records\\Lib\\site-packages\\numpy\\lib\\histograms.py:864\u001B[0m, in \u001B[0;36mhistogram\u001B[1;34m(a, bins, range, density, weights)\u001B[0m\n\u001B[0;32m    860\u001B[0m             n \u001B[38;5;241m+\u001B[39m\u001B[38;5;241m=\u001B[39m np\u001B[38;5;241m.\u001B[39mbincount(indices, weights\u001B[38;5;241m=\u001B[39mtmp_w,\n\u001B[0;32m    861\u001B[0m                              minlength\u001B[38;5;241m=\u001B[39mn_equal_bins)\u001B[38;5;241m.\u001B[39mastype(ntype)\n\u001B[0;32m    862\u001B[0m \u001B[38;5;28;01melse\u001B[39;00m:\n\u001B[0;32m    863\u001B[0m     \u001B[38;5;66;03m# Compute via cumulative histogram\u001B[39;00m\n\u001B[1;32m--> 864\u001B[0m     cum_n \u001B[38;5;241m=\u001B[39m np\u001B[38;5;241m.\u001B[39mzeros(bin_edges\u001B[38;5;241m.\u001B[39mshape, ntype)\n\u001B[0;32m    865\u001B[0m     \u001B[38;5;28;01mif\u001B[39;00m weights \u001B[38;5;129;01mis\u001B[39;00m \u001B[38;5;28;01mNone\u001B[39;00m:\n\u001B[0;32m    866\u001B[0m         \u001B[38;5;28;01mfor\u001B[39;00m i \u001B[38;5;129;01min\u001B[39;00m _range(\u001B[38;5;241m0\u001B[39m, \u001B[38;5;28mlen\u001B[39m(a), BLOCK):\n",
      "\u001B[1;31mMemoryError\u001B[0m: Unable to allocate 4.10 GiB for an array with shape (550744383,) and data type int64"
     ]
    }
   ],
   "execution_count": 5
  },
  {
   "metadata": {
    "ExecuteTime": {
     "end_time": "2024-08-02T12:36:50.201199Z",
     "start_time": "2024-08-02T12:36:50.162715Z"
    }
   },
   "cell_type": "code",
   "source": "procedures",
   "id": "653bc8ec57e30676",
   "outputs": [
    {
     "data": {
      "text/plain": [
       "                      START                  STOP  \\\n",
       "0      2011-01-02T09:26:36Z  2011-01-02T12:58:36Z   \n",
       "1      2011-01-03T05:44:39Z  2011-01-03T06:01:42Z   \n",
       "2      2011-01-04T14:49:55Z  2011-01-04T15:04:55Z   \n",
       "3      2011-01-05T04:02:09Z  2011-01-05T04:17:09Z   \n",
       "4      2011-01-05T12:58:36Z  2011-01-05T16:42:36Z   \n",
       "...                     ...                   ...   \n",
       "47696  2022-01-29T20:35:37Z  2022-01-29T20:50:37Z   \n",
       "47697  2022-01-29T20:35:37Z  2022-01-29T20:50:37Z   \n",
       "47698  2022-01-29T20:35:37Z  2022-01-29T20:50:37Z   \n",
       "47699  2022-01-29T20:35:37Z  2022-01-29T20:50:37Z   \n",
       "47700  2022-01-29T20:35:37Z  2022-01-29T21:08:12Z   \n",
       "\n",
       "                                    PATIENT  \\\n",
       "0      3de74169-7f67-9304-91d4-757e0f3a14d2   \n",
       "1      d9ec2e44-32e9-9148-179a-1653348cc4e2   \n",
       "2      d856d6e6-4c98-e7a2-129b-44076c63d008   \n",
       "3      bc9d59c3-0a30-6e3b-f47d-022e4f03c8de   \n",
       "4      3de74169-7f67-9304-91d4-757e0f3a14d2   \n",
       "...                                     ...   \n",
       "47696  ff1b3c26-53a6-4590-ce79-a3f7269274ea   \n",
       "47697  ff1b3c26-53a6-4590-ce79-a3f7269274ea   \n",
       "47698  ff1b3c26-53a6-4590-ce79-a3f7269274ea   \n",
       "47699  ff1b3c26-53a6-4590-ce79-a3f7269274ea   \n",
       "47700  ff1b3c26-53a6-4590-ce79-a3f7269274ea   \n",
       "\n",
       "                                  ENCOUNTER       CODE  \\\n",
       "0      32c84703-2481-49cd-d571-3899d5820253  265764009   \n",
       "1      c98059da-320a-c0a6-fced-c8815f3e3f39   76601001   \n",
       "2      2cfd4ddd-ad13-fe1e-528b-15051cea2ec3  703423002   \n",
       "3      17966936-0878-f4db-128b-a43ae10d0878  173160006   \n",
       "4      9de5f0b0-4ba4-ce6f-45fb-b55c202f31a5  265764009   \n",
       "...                                     ...        ...   \n",
       "47696  01b57f06-cebe-a3e4-4423-a796ffb0c35d  430193006   \n",
       "47697  01b57f06-cebe-a3e4-4423-a796ffb0c35d  274804006   \n",
       "47698  01b57f06-cebe-a3e4-4423-a796ffb0c35d  225158009   \n",
       "47699  01b57f06-cebe-a3e4-4423-a796ffb0c35d  118001005   \n",
       "47700  01b57f06-cebe-a3e4-4423-a796ffb0c35d  710824005   \n",
       "\n",
       "                                             DESCRIPTION  BASE_COST  \\\n",
       "0                             Renal dialysis (procedure)        903   \n",
       "1                                Intramuscular injection       2477   \n",
       "2      Combined chemotherapy and radiation therapy (p...      11620   \n",
       "3         Diagnostic fiberoptic bronchoscopy (procedure)       9796   \n",
       "4                             Renal dialysis (procedure)       1255   \n",
       "...                                                  ...        ...   \n",
       "47696              Medication Reconciliation (procedure)        413   \n",
       "47697                Evaluation of uterine fundal height       3238   \n",
       "47698                    Auscultation of the fetal heart       7045   \n",
       "47699      Streptococcus pneumoniae group B antigen test       1559   \n",
       "47700  Assessment of health and social care needs (pr...        431   \n",
       "\n",
       "        REASONCODE                  REASONDESCRIPTION  \n",
       "0              NaN                                NaN  \n",
       "1              NaN                                NaN  \n",
       "2      363406005.0           Malignant tumor of colon  \n",
       "3      162573006.0  Suspected lung cancer (situation)  \n",
       "4              NaN                                NaN  \n",
       "...            ...                                ...  \n",
       "47696          NaN                                NaN  \n",
       "47697   72892002.0                   Normal pregnancy  \n",
       "47698   72892002.0                   Normal pregnancy  \n",
       "47699   72892002.0                   Normal pregnancy  \n",
       "47700          NaN                                NaN  \n",
       "\n",
       "[47701 rows x 9 columns]"
      ],
      "text/html": [
       "<div>\n",
       "<style scoped>\n",
       "    .dataframe tbody tr th:only-of-type {\n",
       "        vertical-align: middle;\n",
       "    }\n",
       "\n",
       "    .dataframe tbody tr th {\n",
       "        vertical-align: top;\n",
       "    }\n",
       "\n",
       "    .dataframe thead th {\n",
       "        text-align: right;\n",
       "    }\n",
       "</style>\n",
       "<table border=\"1\" class=\"dataframe\">\n",
       "  <thead>\n",
       "    <tr style=\"text-align: right;\">\n",
       "      <th></th>\n",
       "      <th>START</th>\n",
       "      <th>STOP</th>\n",
       "      <th>PATIENT</th>\n",
       "      <th>ENCOUNTER</th>\n",
       "      <th>CODE</th>\n",
       "      <th>DESCRIPTION</th>\n",
       "      <th>BASE_COST</th>\n",
       "      <th>REASONCODE</th>\n",
       "      <th>REASONDESCRIPTION</th>\n",
       "    </tr>\n",
       "  </thead>\n",
       "  <tbody>\n",
       "    <tr>\n",
       "      <th>0</th>\n",
       "      <td>2011-01-02T09:26:36Z</td>\n",
       "      <td>2011-01-02T12:58:36Z</td>\n",
       "      <td>3de74169-7f67-9304-91d4-757e0f3a14d2</td>\n",
       "      <td>32c84703-2481-49cd-d571-3899d5820253</td>\n",
       "      <td>265764009</td>\n",
       "      <td>Renal dialysis (procedure)</td>\n",
       "      <td>903</td>\n",
       "      <td>NaN</td>\n",
       "      <td>NaN</td>\n",
       "    </tr>\n",
       "    <tr>\n",
       "      <th>1</th>\n",
       "      <td>2011-01-03T05:44:39Z</td>\n",
       "      <td>2011-01-03T06:01:42Z</td>\n",
       "      <td>d9ec2e44-32e9-9148-179a-1653348cc4e2</td>\n",
       "      <td>c98059da-320a-c0a6-fced-c8815f3e3f39</td>\n",
       "      <td>76601001</td>\n",
       "      <td>Intramuscular injection</td>\n",
       "      <td>2477</td>\n",
       "      <td>NaN</td>\n",
       "      <td>NaN</td>\n",
       "    </tr>\n",
       "    <tr>\n",
       "      <th>2</th>\n",
       "      <td>2011-01-04T14:49:55Z</td>\n",
       "      <td>2011-01-04T15:04:55Z</td>\n",
       "      <td>d856d6e6-4c98-e7a2-129b-44076c63d008</td>\n",
       "      <td>2cfd4ddd-ad13-fe1e-528b-15051cea2ec3</td>\n",
       "      <td>703423002</td>\n",
       "      <td>Combined chemotherapy and radiation therapy (p...</td>\n",
       "      <td>11620</td>\n",
       "      <td>363406005.0</td>\n",
       "      <td>Malignant tumor of colon</td>\n",
       "    </tr>\n",
       "    <tr>\n",
       "      <th>3</th>\n",
       "      <td>2011-01-05T04:02:09Z</td>\n",
       "      <td>2011-01-05T04:17:09Z</td>\n",
       "      <td>bc9d59c3-0a30-6e3b-f47d-022e4f03c8de</td>\n",
       "      <td>17966936-0878-f4db-128b-a43ae10d0878</td>\n",
       "      <td>173160006</td>\n",
       "      <td>Diagnostic fiberoptic bronchoscopy (procedure)</td>\n",
       "      <td>9796</td>\n",
       "      <td>162573006.0</td>\n",
       "      <td>Suspected lung cancer (situation)</td>\n",
       "    </tr>\n",
       "    <tr>\n",
       "      <th>4</th>\n",
       "      <td>2011-01-05T12:58:36Z</td>\n",
       "      <td>2011-01-05T16:42:36Z</td>\n",
       "      <td>3de74169-7f67-9304-91d4-757e0f3a14d2</td>\n",
       "      <td>9de5f0b0-4ba4-ce6f-45fb-b55c202f31a5</td>\n",
       "      <td>265764009</td>\n",
       "      <td>Renal dialysis (procedure)</td>\n",
       "      <td>1255</td>\n",
       "      <td>NaN</td>\n",
       "      <td>NaN</td>\n",
       "    </tr>\n",
       "    <tr>\n",
       "      <th>...</th>\n",
       "      <td>...</td>\n",
       "      <td>...</td>\n",
       "      <td>...</td>\n",
       "      <td>...</td>\n",
       "      <td>...</td>\n",
       "      <td>...</td>\n",
       "      <td>...</td>\n",
       "      <td>...</td>\n",
       "      <td>...</td>\n",
       "    </tr>\n",
       "    <tr>\n",
       "      <th>47696</th>\n",
       "      <td>2022-01-29T20:35:37Z</td>\n",
       "      <td>2022-01-29T20:50:37Z</td>\n",
       "      <td>ff1b3c26-53a6-4590-ce79-a3f7269274ea</td>\n",
       "      <td>01b57f06-cebe-a3e4-4423-a796ffb0c35d</td>\n",
       "      <td>430193006</td>\n",
       "      <td>Medication Reconciliation (procedure)</td>\n",
       "      <td>413</td>\n",
       "      <td>NaN</td>\n",
       "      <td>NaN</td>\n",
       "    </tr>\n",
       "    <tr>\n",
       "      <th>47697</th>\n",
       "      <td>2022-01-29T20:35:37Z</td>\n",
       "      <td>2022-01-29T20:50:37Z</td>\n",
       "      <td>ff1b3c26-53a6-4590-ce79-a3f7269274ea</td>\n",
       "      <td>01b57f06-cebe-a3e4-4423-a796ffb0c35d</td>\n",
       "      <td>274804006</td>\n",
       "      <td>Evaluation of uterine fundal height</td>\n",
       "      <td>3238</td>\n",
       "      <td>72892002.0</td>\n",
       "      <td>Normal pregnancy</td>\n",
       "    </tr>\n",
       "    <tr>\n",
       "      <th>47698</th>\n",
       "      <td>2022-01-29T20:35:37Z</td>\n",
       "      <td>2022-01-29T20:50:37Z</td>\n",
       "      <td>ff1b3c26-53a6-4590-ce79-a3f7269274ea</td>\n",
       "      <td>01b57f06-cebe-a3e4-4423-a796ffb0c35d</td>\n",
       "      <td>225158009</td>\n",
       "      <td>Auscultation of the fetal heart</td>\n",
       "      <td>7045</td>\n",
       "      <td>72892002.0</td>\n",
       "      <td>Normal pregnancy</td>\n",
       "    </tr>\n",
       "    <tr>\n",
       "      <th>47699</th>\n",
       "      <td>2022-01-29T20:35:37Z</td>\n",
       "      <td>2022-01-29T20:50:37Z</td>\n",
       "      <td>ff1b3c26-53a6-4590-ce79-a3f7269274ea</td>\n",
       "      <td>01b57f06-cebe-a3e4-4423-a796ffb0c35d</td>\n",
       "      <td>118001005</td>\n",
       "      <td>Streptococcus pneumoniae group B antigen test</td>\n",
       "      <td>1559</td>\n",
       "      <td>72892002.0</td>\n",
       "      <td>Normal pregnancy</td>\n",
       "    </tr>\n",
       "    <tr>\n",
       "      <th>47700</th>\n",
       "      <td>2022-01-29T20:35:37Z</td>\n",
       "      <td>2022-01-29T21:08:12Z</td>\n",
       "      <td>ff1b3c26-53a6-4590-ce79-a3f7269274ea</td>\n",
       "      <td>01b57f06-cebe-a3e4-4423-a796ffb0c35d</td>\n",
       "      <td>710824005</td>\n",
       "      <td>Assessment of health and social care needs (pr...</td>\n",
       "      <td>431</td>\n",
       "      <td>NaN</td>\n",
       "      <td>NaN</td>\n",
       "    </tr>\n",
       "  </tbody>\n",
       "</table>\n",
       "<p>47701 rows × 9 columns</p>\n",
       "</div>"
      ]
     },
     "execution_count": 7,
     "metadata": {},
     "output_type": "execute_result"
    }
   ],
   "execution_count": 7
  },
  {
   "metadata": {
    "ExecuteTime": {
     "end_time": "2024-08-02T12:48:43.316686Z",
     "start_time": "2024-08-02T12:48:43.283331Z"
    }
   },
   "cell_type": "code",
   "source": "dictionary.head()",
   "id": "d1676c6ebffc7a6b",
   "outputs": [
    {
     "data": {
      "text/plain": [
       "        Table    Field                                        Description\n",
       "0  encounters      NaN                             Patient encounter data\n",
       "1  encounters       Id   Primary Key. Unique Identifier of the encounter.\n",
       "2  encounters    Start  The date and time (iso8601 UTC Date (yyyy-MM-d...\n",
       "3  encounters     Stop  The date and time (iso8601 UTC Date (yyyy-MM-d...\n",
       "4  encounters  Patient                        Foreign key to the Patient."
      ],
      "text/html": [
       "<div>\n",
       "<style scoped>\n",
       "    .dataframe tbody tr th:only-of-type {\n",
       "        vertical-align: middle;\n",
       "    }\n",
       "\n",
       "    .dataframe tbody tr th {\n",
       "        vertical-align: top;\n",
       "    }\n",
       "\n",
       "    .dataframe thead th {\n",
       "        text-align: right;\n",
       "    }\n",
       "</style>\n",
       "<table border=\"1\" class=\"dataframe\">\n",
       "  <thead>\n",
       "    <tr style=\"text-align: right;\">\n",
       "      <th></th>\n",
       "      <th>Table</th>\n",
       "      <th>Field</th>\n",
       "      <th>Description</th>\n",
       "    </tr>\n",
       "  </thead>\n",
       "  <tbody>\n",
       "    <tr>\n",
       "      <th>0</th>\n",
       "      <td>encounters</td>\n",
       "      <td>NaN</td>\n",
       "      <td>Patient encounter data</td>\n",
       "    </tr>\n",
       "    <tr>\n",
       "      <th>1</th>\n",
       "      <td>encounters</td>\n",
       "      <td>Id</td>\n",
       "      <td>Primary Key. Unique Identifier of the encounter.</td>\n",
       "    </tr>\n",
       "    <tr>\n",
       "      <th>2</th>\n",
       "      <td>encounters</td>\n",
       "      <td>Start</td>\n",
       "      <td>The date and time (iso8601 UTC Date (yyyy-MM-d...</td>\n",
       "    </tr>\n",
       "    <tr>\n",
       "      <th>3</th>\n",
       "      <td>encounters</td>\n",
       "      <td>Stop</td>\n",
       "      <td>The date and time (iso8601 UTC Date (yyyy-MM-d...</td>\n",
       "    </tr>\n",
       "    <tr>\n",
       "      <th>4</th>\n",
       "      <td>encounters</td>\n",
       "      <td>Patient</td>\n",
       "      <td>Foreign key to the Patient.</td>\n",
       "    </tr>\n",
       "  </tbody>\n",
       "</table>\n",
       "</div>"
      ]
     },
     "execution_count": 21,
     "metadata": {},
     "output_type": "execute_result"
    }
   ],
   "execution_count": 21
  },
  {
   "metadata": {
    "ExecuteTime": {
     "end_time": "2024-08-02T12:48:00.358592Z",
     "start_time": "2024-08-02T12:48:00.327613Z"
    }
   },
   "cell_type": "code",
   "source": "encounters.head()",
   "id": "fdab8395d86dcc3f",
   "outputs": [
    {
     "data": {
      "text/plain": [
       "                                     Id                 START  \\\n",
       "0  32c84703-2481-49cd-d571-3899d5820253  2011-01-02T09:26:36Z   \n",
       "1  c98059da-320a-c0a6-fced-c8815f3e3f39  2011-01-03T05:44:39Z   \n",
       "2  4ad28a3a-2479-782b-f29c-d5b3f41a001e  2011-01-03T14:32:11Z   \n",
       "3  c3f4da61-e4b4-21d5-587a-fbc89943bc19  2011-01-03T16:24:45Z   \n",
       "4  a9183b4f-2572-72ea-54c2-b3cd038b4be7  2011-01-03T17:36:53Z   \n",
       "\n",
       "                   STOP                               PATIENT  \\\n",
       "0  2011-01-02T12:58:36Z  3de74169-7f67-9304-91d4-757e0f3a14d2   \n",
       "1  2011-01-03T06:01:42Z  d9ec2e44-32e9-9148-179a-1653348cc4e2   \n",
       "2  2011-01-03T14:47:11Z  73babadf-5b2b-fee7-189e-6f41ff213e01   \n",
       "3  2011-01-03T16:39:45Z  3b46a0b7-0f34-9b9a-c319-ace4a1f58c0b   \n",
       "4  2011-01-03T17:51:53Z  fa006887-d93c-d302-8b89-f3c25f88c0e1   \n",
       "\n",
       "                           ORGANIZATION                                 PAYER  \\\n",
       "0  d78e84ec-30aa-3bba-a33a-f29a3a454662  b1c428d6-4f07-31e0-90f0-68ffa6ff8c76   \n",
       "1  d78e84ec-30aa-3bba-a33a-f29a3a454662  b1c428d6-4f07-31e0-90f0-68ffa6ff8c76   \n",
       "2  d78e84ec-30aa-3bba-a33a-f29a3a454662  7caa7254-5050-3b5e-9eae-bd5ea30e809c   \n",
       "3  d78e84ec-30aa-3bba-a33a-f29a3a454662  b1c428d6-4f07-31e0-90f0-68ffa6ff8c76   \n",
       "4  d78e84ec-30aa-3bba-a33a-f29a3a454662  42c4fca7-f8a9-3cd1-982a-dd9751bf3e2a   \n",
       "\n",
       "  ENCOUNTERCLASS       CODE                                 DESCRIPTION  \\\n",
       "0     ambulatory  185347001           Encounter for problem (procedure)   \n",
       "1     outpatient  308335008                 Patient encounter procedure   \n",
       "2     outpatient  185349003          Encounter for check up (procedure)   \n",
       "3       wellness  162673000  General examination of patient (procedure)   \n",
       "4     ambulatory  390906007                         Follow-up encounter   \n",
       "\n",
       "   BASE_ENCOUNTER_COST  TOTAL_CLAIM_COST  PAYER_COVERAGE  REASONCODE  \\\n",
       "0                85.55           1018.02            0.00         NaN   \n",
       "1               142.58           2619.36            0.00         NaN   \n",
       "2                85.55            461.59          305.27         NaN   \n",
       "3               136.80           1784.24            0.00         NaN   \n",
       "4                85.55            234.72            0.00  55822004.0   \n",
       "\n",
       "  REASONDESCRIPTION  \n",
       "0               NaN  \n",
       "1               NaN  \n",
       "2               NaN  \n",
       "3               NaN  \n",
       "4    Hyperlipidemia  "
      ],
      "text/html": [
       "<div>\n",
       "<style scoped>\n",
       "    .dataframe tbody tr th:only-of-type {\n",
       "        vertical-align: middle;\n",
       "    }\n",
       "\n",
       "    .dataframe tbody tr th {\n",
       "        vertical-align: top;\n",
       "    }\n",
       "\n",
       "    .dataframe thead th {\n",
       "        text-align: right;\n",
       "    }\n",
       "</style>\n",
       "<table border=\"1\" class=\"dataframe\">\n",
       "  <thead>\n",
       "    <tr style=\"text-align: right;\">\n",
       "      <th></th>\n",
       "      <th>Id</th>\n",
       "      <th>START</th>\n",
       "      <th>STOP</th>\n",
       "      <th>PATIENT</th>\n",
       "      <th>ORGANIZATION</th>\n",
       "      <th>PAYER</th>\n",
       "      <th>ENCOUNTERCLASS</th>\n",
       "      <th>CODE</th>\n",
       "      <th>DESCRIPTION</th>\n",
       "      <th>BASE_ENCOUNTER_COST</th>\n",
       "      <th>TOTAL_CLAIM_COST</th>\n",
       "      <th>PAYER_COVERAGE</th>\n",
       "      <th>REASONCODE</th>\n",
       "      <th>REASONDESCRIPTION</th>\n",
       "    </tr>\n",
       "  </thead>\n",
       "  <tbody>\n",
       "    <tr>\n",
       "      <th>0</th>\n",
       "      <td>32c84703-2481-49cd-d571-3899d5820253</td>\n",
       "      <td>2011-01-02T09:26:36Z</td>\n",
       "      <td>2011-01-02T12:58:36Z</td>\n",
       "      <td>3de74169-7f67-9304-91d4-757e0f3a14d2</td>\n",
       "      <td>d78e84ec-30aa-3bba-a33a-f29a3a454662</td>\n",
       "      <td>b1c428d6-4f07-31e0-90f0-68ffa6ff8c76</td>\n",
       "      <td>ambulatory</td>\n",
       "      <td>185347001</td>\n",
       "      <td>Encounter for problem (procedure)</td>\n",
       "      <td>85.55</td>\n",
       "      <td>1018.02</td>\n",
       "      <td>0.00</td>\n",
       "      <td>NaN</td>\n",
       "      <td>NaN</td>\n",
       "    </tr>\n",
       "    <tr>\n",
       "      <th>1</th>\n",
       "      <td>c98059da-320a-c0a6-fced-c8815f3e3f39</td>\n",
       "      <td>2011-01-03T05:44:39Z</td>\n",
       "      <td>2011-01-03T06:01:42Z</td>\n",
       "      <td>d9ec2e44-32e9-9148-179a-1653348cc4e2</td>\n",
       "      <td>d78e84ec-30aa-3bba-a33a-f29a3a454662</td>\n",
       "      <td>b1c428d6-4f07-31e0-90f0-68ffa6ff8c76</td>\n",
       "      <td>outpatient</td>\n",
       "      <td>308335008</td>\n",
       "      <td>Patient encounter procedure</td>\n",
       "      <td>142.58</td>\n",
       "      <td>2619.36</td>\n",
       "      <td>0.00</td>\n",
       "      <td>NaN</td>\n",
       "      <td>NaN</td>\n",
       "    </tr>\n",
       "    <tr>\n",
       "      <th>2</th>\n",
       "      <td>4ad28a3a-2479-782b-f29c-d5b3f41a001e</td>\n",
       "      <td>2011-01-03T14:32:11Z</td>\n",
       "      <td>2011-01-03T14:47:11Z</td>\n",
       "      <td>73babadf-5b2b-fee7-189e-6f41ff213e01</td>\n",
       "      <td>d78e84ec-30aa-3bba-a33a-f29a3a454662</td>\n",
       "      <td>7caa7254-5050-3b5e-9eae-bd5ea30e809c</td>\n",
       "      <td>outpatient</td>\n",
       "      <td>185349003</td>\n",
       "      <td>Encounter for check up (procedure)</td>\n",
       "      <td>85.55</td>\n",
       "      <td>461.59</td>\n",
       "      <td>305.27</td>\n",
       "      <td>NaN</td>\n",
       "      <td>NaN</td>\n",
       "    </tr>\n",
       "    <tr>\n",
       "      <th>3</th>\n",
       "      <td>c3f4da61-e4b4-21d5-587a-fbc89943bc19</td>\n",
       "      <td>2011-01-03T16:24:45Z</td>\n",
       "      <td>2011-01-03T16:39:45Z</td>\n",
       "      <td>3b46a0b7-0f34-9b9a-c319-ace4a1f58c0b</td>\n",
       "      <td>d78e84ec-30aa-3bba-a33a-f29a3a454662</td>\n",
       "      <td>b1c428d6-4f07-31e0-90f0-68ffa6ff8c76</td>\n",
       "      <td>wellness</td>\n",
       "      <td>162673000</td>\n",
       "      <td>General examination of patient (procedure)</td>\n",
       "      <td>136.80</td>\n",
       "      <td>1784.24</td>\n",
       "      <td>0.00</td>\n",
       "      <td>NaN</td>\n",
       "      <td>NaN</td>\n",
       "    </tr>\n",
       "    <tr>\n",
       "      <th>4</th>\n",
       "      <td>a9183b4f-2572-72ea-54c2-b3cd038b4be7</td>\n",
       "      <td>2011-01-03T17:36:53Z</td>\n",
       "      <td>2011-01-03T17:51:53Z</td>\n",
       "      <td>fa006887-d93c-d302-8b89-f3c25f88c0e1</td>\n",
       "      <td>d78e84ec-30aa-3bba-a33a-f29a3a454662</td>\n",
       "      <td>42c4fca7-f8a9-3cd1-982a-dd9751bf3e2a</td>\n",
       "      <td>ambulatory</td>\n",
       "      <td>390906007</td>\n",
       "      <td>Follow-up encounter</td>\n",
       "      <td>85.55</td>\n",
       "      <td>234.72</td>\n",
       "      <td>0.00</td>\n",
       "      <td>55822004.0</td>\n",
       "      <td>Hyperlipidemia</td>\n",
       "    </tr>\n",
       "  </tbody>\n",
       "</table>\n",
       "</div>"
      ]
     },
     "execution_count": 20,
     "metadata": {},
     "output_type": "execute_result"
    }
   ],
   "execution_count": 20
  },
  {
   "metadata": {
    "ExecuteTime": {
     "end_time": "2024-08-02T12:46:37.952688Z",
     "start_time": "2024-08-02T12:46:37.935385Z"
    }
   },
   "cell_type": "code",
   "source": "organizations.head()",
   "id": "f6d0e4097fb4cbba",
   "outputs": [
    {
     "data": {
      "text/plain": [
       "                                     Id                            NAME  \\\n",
       "0  d78e84ec-30aa-3bba-a33a-f29a3a454662  MASSACHUSETTS GENERAL HOSPITAL   \n",
       "\n",
       "           ADDRESS    CITY STATE   ZIP        LAT        LON  \n",
       "0  55 FRUIT STREET  BOSTON    MA  2114  42.362813 -71.069187  "
      ],
      "text/html": [
       "<div>\n",
       "<style scoped>\n",
       "    .dataframe tbody tr th:only-of-type {\n",
       "        vertical-align: middle;\n",
       "    }\n",
       "\n",
       "    .dataframe tbody tr th {\n",
       "        vertical-align: top;\n",
       "    }\n",
       "\n",
       "    .dataframe thead th {\n",
       "        text-align: right;\n",
       "    }\n",
       "</style>\n",
       "<table border=\"1\" class=\"dataframe\">\n",
       "  <thead>\n",
       "    <tr style=\"text-align: right;\">\n",
       "      <th></th>\n",
       "      <th>Id</th>\n",
       "      <th>NAME</th>\n",
       "      <th>ADDRESS</th>\n",
       "      <th>CITY</th>\n",
       "      <th>STATE</th>\n",
       "      <th>ZIP</th>\n",
       "      <th>LAT</th>\n",
       "      <th>LON</th>\n",
       "    </tr>\n",
       "  </thead>\n",
       "  <tbody>\n",
       "    <tr>\n",
       "      <th>0</th>\n",
       "      <td>d78e84ec-30aa-3bba-a33a-f29a3a454662</td>\n",
       "      <td>MASSACHUSETTS GENERAL HOSPITAL</td>\n",
       "      <td>55 FRUIT STREET</td>\n",
       "      <td>BOSTON</td>\n",
       "      <td>MA</td>\n",
       "      <td>2114</td>\n",
       "      <td>42.362813</td>\n",
       "      <td>-71.069187</td>\n",
       "    </tr>\n",
       "  </tbody>\n",
       "</table>\n",
       "</div>"
      ]
     },
     "execution_count": 19,
     "metadata": {},
     "output_type": "execute_result"
    }
   ],
   "execution_count": 19
  },
  {
   "metadata": {
    "ExecuteTime": {
     "end_time": "2024-08-02T12:46:09.716427Z",
     "start_time": "2024-08-02T12:46:09.695877Z"
    }
   },
   "cell_type": "code",
   "source": "payers.head()",
   "id": "56a6543da4dae8bd",
   "outputs": [
    {
     "data": {
      "text/plain": [
       "                                     Id                    NAME  \\\n",
       "0  b3221cfc-24fb-339e-823d-bc4136cbc4ed           Dual Eligible   \n",
       "1  7caa7254-5050-3b5e-9eae-bd5ea30e809c                Medicare   \n",
       "2  7c4411ce-02f1-39b5-b9ec-dfbea9ad3c1a                Medicaid   \n",
       "3  d47b3510-2895-3b70-9897-342d681c769d                  Humana   \n",
       "4  6e2f1a2d-27bd-3701-8d08-dae202c58632  Blue Cross Blue Shield   \n",
       "\n",
       "              ADDRESS        CITY STATE_HEADQUARTERED      ZIP           PHONE  \n",
       "0  7500 Security Blvd   Baltimore                  MD  21244.0  1-877-267-2323  \n",
       "1  7500 Security Blvd   Baltimore                  MD  21244.0  1-800-633-4227  \n",
       "2  7500 Security Blvd   Baltimore                  MD  21244.0  1-877-267-2323  \n",
       "3    500 West Main St  Louisville                  KY  40018.0  1-844-330-7799  \n",
       "4      Michigan Plaza     Chicago                  IL  60007.0  1-800-262-2583  "
      ],
      "text/html": [
       "<div>\n",
       "<style scoped>\n",
       "    .dataframe tbody tr th:only-of-type {\n",
       "        vertical-align: middle;\n",
       "    }\n",
       "\n",
       "    .dataframe tbody tr th {\n",
       "        vertical-align: top;\n",
       "    }\n",
       "\n",
       "    .dataframe thead th {\n",
       "        text-align: right;\n",
       "    }\n",
       "</style>\n",
       "<table border=\"1\" class=\"dataframe\">\n",
       "  <thead>\n",
       "    <tr style=\"text-align: right;\">\n",
       "      <th></th>\n",
       "      <th>Id</th>\n",
       "      <th>NAME</th>\n",
       "      <th>ADDRESS</th>\n",
       "      <th>CITY</th>\n",
       "      <th>STATE_HEADQUARTERED</th>\n",
       "      <th>ZIP</th>\n",
       "      <th>PHONE</th>\n",
       "    </tr>\n",
       "  </thead>\n",
       "  <tbody>\n",
       "    <tr>\n",
       "      <th>0</th>\n",
       "      <td>b3221cfc-24fb-339e-823d-bc4136cbc4ed</td>\n",
       "      <td>Dual Eligible</td>\n",
       "      <td>7500 Security Blvd</td>\n",
       "      <td>Baltimore</td>\n",
       "      <td>MD</td>\n",
       "      <td>21244.0</td>\n",
       "      <td>1-877-267-2323</td>\n",
       "    </tr>\n",
       "    <tr>\n",
       "      <th>1</th>\n",
       "      <td>7caa7254-5050-3b5e-9eae-bd5ea30e809c</td>\n",
       "      <td>Medicare</td>\n",
       "      <td>7500 Security Blvd</td>\n",
       "      <td>Baltimore</td>\n",
       "      <td>MD</td>\n",
       "      <td>21244.0</td>\n",
       "      <td>1-800-633-4227</td>\n",
       "    </tr>\n",
       "    <tr>\n",
       "      <th>2</th>\n",
       "      <td>7c4411ce-02f1-39b5-b9ec-dfbea9ad3c1a</td>\n",
       "      <td>Medicaid</td>\n",
       "      <td>7500 Security Blvd</td>\n",
       "      <td>Baltimore</td>\n",
       "      <td>MD</td>\n",
       "      <td>21244.0</td>\n",
       "      <td>1-877-267-2323</td>\n",
       "    </tr>\n",
       "    <tr>\n",
       "      <th>3</th>\n",
       "      <td>d47b3510-2895-3b70-9897-342d681c769d</td>\n",
       "      <td>Humana</td>\n",
       "      <td>500 West Main St</td>\n",
       "      <td>Louisville</td>\n",
       "      <td>KY</td>\n",
       "      <td>40018.0</td>\n",
       "      <td>1-844-330-7799</td>\n",
       "    </tr>\n",
       "    <tr>\n",
       "      <th>4</th>\n",
       "      <td>6e2f1a2d-27bd-3701-8d08-dae202c58632</td>\n",
       "      <td>Blue Cross Blue Shield</td>\n",
       "      <td>Michigan Plaza</td>\n",
       "      <td>Chicago</td>\n",
       "      <td>IL</td>\n",
       "      <td>60007.0</td>\n",
       "      <td>1-800-262-2583</td>\n",
       "    </tr>\n",
       "  </tbody>\n",
       "</table>\n",
       "</div>"
      ]
     },
     "execution_count": 18,
     "metadata": {},
     "output_type": "execute_result"
    }
   ],
   "execution_count": 18
  },
  {
   "metadata": {
    "ExecuteTime": {
     "end_time": "2024-08-02T12:45:04.623503Z",
     "start_time": "2024-08-02T12:45:04.596145Z"
    }
   },
   "cell_type": "code",
   "source": "patients.info()",
   "id": "1ecc17efe598ffb2",
   "outputs": [
    {
     "name": "stdout",
     "output_type": "stream",
     "text": [
      "<class 'pandas.core.frame.DataFrame'>\n",
      "RangeIndex: 974 entries, 0 to 973\n",
      "Data columns (total 20 columns):\n",
      " #   Column      Non-Null Count  Dtype  \n",
      "---  ------      --------------  -----  \n",
      " 0   Id          974 non-null    object \n",
      " 1   BIRTHDATE   974 non-null    object \n",
      " 2   DEATHDATE   154 non-null    object \n",
      " 3   PREFIX      974 non-null    object \n",
      " 4   FIRST       974 non-null    object \n",
      " 5   LAST        974 non-null    object \n",
      " 6   SUFFIX      21 non-null     object \n",
      " 7   MAIDEN      386 non-null    object \n",
      " 8   MARITAL     973 non-null    object \n",
      " 9   RACE        974 non-null    object \n",
      " 10  ETHNICITY   974 non-null    object \n",
      " 11  GENDER      974 non-null    object \n",
      " 12  BIRTHPLACE  974 non-null    object \n",
      " 13  ADDRESS     974 non-null    object \n",
      " 14  CITY        974 non-null    object \n",
      " 15  STATE       974 non-null    object \n",
      " 16  COUNTY      974 non-null    object \n",
      " 17  ZIP         832 non-null    float64\n",
      " 18  LAT         974 non-null    float64\n",
      " 19  LON         974 non-null    float64\n",
      "dtypes: float64(3), object(17)\n",
      "memory usage: 152.3+ KB\n"
     ]
    }
   ],
   "execution_count": 17
  },
  {
   "metadata": {
    "ExecuteTime": {
     "end_time": "2024-08-02T12:42:42.649092Z",
     "start_time": "2024-08-02T12:42:42.627319Z"
    }
   },
   "cell_type": "code",
   "source": "procedures.head()",
   "id": "c9e2bf4270bde34d",
   "outputs": [
    {
     "data": {
      "text/plain": [
       "                  START                  STOP  \\\n",
       "0  2011-01-02T09:26:36Z  2011-01-02T12:58:36Z   \n",
       "1  2011-01-03T05:44:39Z  2011-01-03T06:01:42Z   \n",
       "2  2011-01-04T14:49:55Z  2011-01-04T15:04:55Z   \n",
       "3  2011-01-05T04:02:09Z  2011-01-05T04:17:09Z   \n",
       "4  2011-01-05T12:58:36Z  2011-01-05T16:42:36Z   \n",
       "\n",
       "                                PATIENT                             ENCOUNTER  \\\n",
       "0  3de74169-7f67-9304-91d4-757e0f3a14d2  32c84703-2481-49cd-d571-3899d5820253   \n",
       "1  d9ec2e44-32e9-9148-179a-1653348cc4e2  c98059da-320a-c0a6-fced-c8815f3e3f39   \n",
       "2  d856d6e6-4c98-e7a2-129b-44076c63d008  2cfd4ddd-ad13-fe1e-528b-15051cea2ec3   \n",
       "3  bc9d59c3-0a30-6e3b-f47d-022e4f03c8de  17966936-0878-f4db-128b-a43ae10d0878   \n",
       "4  3de74169-7f67-9304-91d4-757e0f3a14d2  9de5f0b0-4ba4-ce6f-45fb-b55c202f31a5   \n",
       "\n",
       "        CODE                                        DESCRIPTION  BASE_COST  \\\n",
       "0  265764009                         Renal dialysis (procedure)        903   \n",
       "1   76601001                            Intramuscular injection       2477   \n",
       "2  703423002  Combined chemotherapy and radiation therapy (p...      11620   \n",
       "3  173160006     Diagnostic fiberoptic bronchoscopy (procedure)       9796   \n",
       "4  265764009                         Renal dialysis (procedure)       1255   \n",
       "\n",
       "    REASONCODE                  REASONDESCRIPTION  \n",
       "0          NaN                                NaN  \n",
       "1          NaN                                NaN  \n",
       "2  363406005.0           Malignant tumor of colon  \n",
       "3  162573006.0  Suspected lung cancer (situation)  \n",
       "4          NaN                                NaN  "
      ],
      "text/html": [
       "<div>\n",
       "<style scoped>\n",
       "    .dataframe tbody tr th:only-of-type {\n",
       "        vertical-align: middle;\n",
       "    }\n",
       "\n",
       "    .dataframe tbody tr th {\n",
       "        vertical-align: top;\n",
       "    }\n",
       "\n",
       "    .dataframe thead th {\n",
       "        text-align: right;\n",
       "    }\n",
       "</style>\n",
       "<table border=\"1\" class=\"dataframe\">\n",
       "  <thead>\n",
       "    <tr style=\"text-align: right;\">\n",
       "      <th></th>\n",
       "      <th>START</th>\n",
       "      <th>STOP</th>\n",
       "      <th>PATIENT</th>\n",
       "      <th>ENCOUNTER</th>\n",
       "      <th>CODE</th>\n",
       "      <th>DESCRIPTION</th>\n",
       "      <th>BASE_COST</th>\n",
       "      <th>REASONCODE</th>\n",
       "      <th>REASONDESCRIPTION</th>\n",
       "    </tr>\n",
       "  </thead>\n",
       "  <tbody>\n",
       "    <tr>\n",
       "      <th>0</th>\n",
       "      <td>2011-01-02T09:26:36Z</td>\n",
       "      <td>2011-01-02T12:58:36Z</td>\n",
       "      <td>3de74169-7f67-9304-91d4-757e0f3a14d2</td>\n",
       "      <td>32c84703-2481-49cd-d571-3899d5820253</td>\n",
       "      <td>265764009</td>\n",
       "      <td>Renal dialysis (procedure)</td>\n",
       "      <td>903</td>\n",
       "      <td>NaN</td>\n",
       "      <td>NaN</td>\n",
       "    </tr>\n",
       "    <tr>\n",
       "      <th>1</th>\n",
       "      <td>2011-01-03T05:44:39Z</td>\n",
       "      <td>2011-01-03T06:01:42Z</td>\n",
       "      <td>d9ec2e44-32e9-9148-179a-1653348cc4e2</td>\n",
       "      <td>c98059da-320a-c0a6-fced-c8815f3e3f39</td>\n",
       "      <td>76601001</td>\n",
       "      <td>Intramuscular injection</td>\n",
       "      <td>2477</td>\n",
       "      <td>NaN</td>\n",
       "      <td>NaN</td>\n",
       "    </tr>\n",
       "    <tr>\n",
       "      <th>2</th>\n",
       "      <td>2011-01-04T14:49:55Z</td>\n",
       "      <td>2011-01-04T15:04:55Z</td>\n",
       "      <td>d856d6e6-4c98-e7a2-129b-44076c63d008</td>\n",
       "      <td>2cfd4ddd-ad13-fe1e-528b-15051cea2ec3</td>\n",
       "      <td>703423002</td>\n",
       "      <td>Combined chemotherapy and radiation therapy (p...</td>\n",
       "      <td>11620</td>\n",
       "      <td>363406005.0</td>\n",
       "      <td>Malignant tumor of colon</td>\n",
       "    </tr>\n",
       "    <tr>\n",
       "      <th>3</th>\n",
       "      <td>2011-01-05T04:02:09Z</td>\n",
       "      <td>2011-01-05T04:17:09Z</td>\n",
       "      <td>bc9d59c3-0a30-6e3b-f47d-022e4f03c8de</td>\n",
       "      <td>17966936-0878-f4db-128b-a43ae10d0878</td>\n",
       "      <td>173160006</td>\n",
       "      <td>Diagnostic fiberoptic bronchoscopy (procedure)</td>\n",
       "      <td>9796</td>\n",
       "      <td>162573006.0</td>\n",
       "      <td>Suspected lung cancer (situation)</td>\n",
       "    </tr>\n",
       "    <tr>\n",
       "      <th>4</th>\n",
       "      <td>2011-01-05T12:58:36Z</td>\n",
       "      <td>2011-01-05T16:42:36Z</td>\n",
       "      <td>3de74169-7f67-9304-91d4-757e0f3a14d2</td>\n",
       "      <td>9de5f0b0-4ba4-ce6f-45fb-b55c202f31a5</td>\n",
       "      <td>265764009</td>\n",
       "      <td>Renal dialysis (procedure)</td>\n",
       "      <td>1255</td>\n",
       "      <td>NaN</td>\n",
       "      <td>NaN</td>\n",
       "    </tr>\n",
       "  </tbody>\n",
       "</table>\n",
       "</div>"
      ]
     },
     "execution_count": 14,
     "metadata": {},
     "output_type": "execute_result"
    }
   ],
   "execution_count": 14
  },
  {
   "metadata": {
    "ExecuteTime": {
     "end_time": "2024-08-02T14:07:27.638968Z",
     "start_time": "2024-08-02T14:07:27.215464Z"
    }
   },
   "cell_type": "code",
   "source": "dictionary.columns",
   "id": "637636b509b6efb9",
   "outputs": [
    {
     "data": {
      "text/plain": [
       "Index(['Table', 'Field', 'Description'], dtype='object')"
      ]
     },
     "execution_count": 22,
     "metadata": {},
     "output_type": "execute_result"
    }
   ],
   "execution_count": 22
  },
  {
   "metadata": {
    "ExecuteTime": {
     "end_time": "2024-08-02T14:07:39.026270Z",
     "start_time": "2024-08-02T14:07:39.000078Z"
    }
   },
   "cell_type": "code",
   "source": "encounters.columns",
   "id": "9eef39f63e26e5b5",
   "outputs": [
    {
     "data": {
      "text/plain": [
       "Index(['Id', 'START', 'STOP', 'PATIENT', 'ORGANIZATION', 'PAYER',\n",
       "       'ENCOUNTERCLASS', 'CODE', 'DESCRIPTION', 'BASE_ENCOUNTER_COST',\n",
       "       'TOTAL_CLAIM_COST', 'PAYER_COVERAGE', 'REASONCODE',\n",
       "       'REASONDESCRIPTION'],\n",
       "      dtype='object')"
      ]
     },
     "execution_count": 23,
     "metadata": {},
     "output_type": "execute_result"
    }
   ],
   "execution_count": 23
  },
  {
   "metadata": {
    "ExecuteTime": {
     "end_time": "2024-08-02T14:07:40.297652Z",
     "start_time": "2024-08-02T14:07:40.273386Z"
    }
   },
   "cell_type": "code",
   "source": "organizations.columns",
   "id": "3c51aa13297a12d3",
   "outputs": [
    {
     "data": {
      "text/plain": [
       "Index(['Id', 'NAME', 'ADDRESS', 'CITY', 'STATE', 'ZIP', 'LAT', 'LON'], dtype='object')"
      ]
     },
     "execution_count": 24,
     "metadata": {},
     "output_type": "execute_result"
    }
   ],
   "execution_count": 24
  },
  {
   "metadata": {
    "ExecuteTime": {
     "end_time": "2024-08-02T14:07:40.975215Z",
     "start_time": "2024-08-02T14:07:40.952638Z"
    }
   },
   "cell_type": "code",
   "source": "payers.columns",
   "id": "451f1f73c0678395",
   "outputs": [
    {
     "data": {
      "text/plain": [
       "Index(['Id', 'NAME', 'ADDRESS', 'CITY', 'STATE_HEADQUARTERED', 'ZIP', 'PHONE'], dtype='object')"
      ]
     },
     "execution_count": 25,
     "metadata": {},
     "output_type": "execute_result"
    }
   ],
   "execution_count": 25
  },
  {
   "metadata": {
    "ExecuteTime": {
     "end_time": "2024-08-02T14:07:41.731325Z",
     "start_time": "2024-08-02T14:07:41.698833Z"
    }
   },
   "cell_type": "code",
   "source": "patients.columns",
   "id": "a48c01729a0d57dc",
   "outputs": [
    {
     "data": {
      "text/plain": [
       "Index(['Id', 'BIRTHDATE', 'DEATHDATE', 'PREFIX', 'FIRST', 'LAST', 'SUFFIX',\n",
       "       'MAIDEN', 'MARITAL', 'RACE', 'ETHNICITY', 'GENDER', 'BIRTHPLACE',\n",
       "       'ADDRESS', 'CITY', 'STATE', 'COUNTY', 'ZIP', 'LAT', 'LON'],\n",
       "      dtype='object')"
      ]
     },
     "execution_count": 26,
     "metadata": {},
     "output_type": "execute_result"
    }
   ],
   "execution_count": 26
  },
  {
   "metadata": {
    "ExecuteTime": {
     "end_time": "2024-08-02T14:07:42.663447Z",
     "start_time": "2024-08-02T14:07:42.645997Z"
    }
   },
   "cell_type": "code",
   "source": "procedures.columns",
   "id": "b76729033558da53",
   "outputs": [
    {
     "data": {
      "text/plain": [
       "Index(['START', 'STOP', 'PATIENT', 'ENCOUNTER', 'CODE', 'DESCRIPTION',\n",
       "       'BASE_COST', 'REASONCODE', 'REASONDESCRIPTION'],\n",
       "      dtype='object')"
      ]
     },
     "execution_count": 27,
     "metadata": {},
     "output_type": "execute_result"
    }
   ],
   "execution_count": 27
  },
  {
   "metadata": {},
   "cell_type": "code",
   "outputs": [],
   "execution_count": null,
   "source": "",
   "id": "7a56dfa01764ae52"
  }
 ],
 "metadata": {
  "kernelspec": {
   "display_name": "Python 3",
   "language": "python",
   "name": "python3"
  },
  "language_info": {
   "codemirror_mode": {
    "name": "ipython",
    "version": 2
   },
   "file_extension": ".py",
   "mimetype": "text/x-python",
   "name": "python",
   "nbconvert_exporter": "python",
   "pygments_lexer": "ipython2",
   "version": "2.7.6"
  }
 },
 "nbformat": 4,
 "nbformat_minor": 5
}
