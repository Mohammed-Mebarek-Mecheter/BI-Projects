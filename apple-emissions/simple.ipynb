{
 "cells": [
  {
   "metadata": {
    "ExecuteTime": {
     "end_time": "2024-08-03T11:21:47.467447Z",
     "start_time": "2024-08-03T11:21:47.456454Z"
    }
   },
   "cell_type": "code",
   "source": [
    "# Import libraries\n",
    "import pandas as pd"
   ],
   "id": "7df9140457caed5e",
   "outputs": [],
   "execution_count": 117
  },
  {
   "metadata": {
    "ExecuteTime": {
     "end_time": "2024-08-03T11:21:47.563393Z",
     "start_time": "2024-08-03T11:21:47.535409Z"
    }
   },
   "cell_type": "code",
   "source": [
    "# load data\n",
    "carbon = pd.read_csv('data/carbon_footprint_by_product.csv')\n",
    "greenhouse = pd.read_csv('data/greenhouse_gas_emissions.csv')\n",
    "factors = pd.read_csv('data/normalizing_factors.csv')"
   ],
   "id": "49ea8400dd55fe04",
   "outputs": [],
   "execution_count": 118
  },
  {
   "metadata": {
    "ExecuteTime": {
     "end_time": "2024-08-03T11:21:47.721302Z",
     "start_time": "2024-08-03T11:21:47.687322Z"
    }
   },
   "cell_type": "code",
   "source": "greenhouse.info()",
   "id": "4b66567420f877cf",
   "outputs": [
    {
     "name": "stdout",
     "output_type": "stream",
     "text": [
      "<class 'pandas.core.frame.DataFrame'>\n",
      "RangeIndex: 136 entries, 0 to 135\n",
      "Data columns (total 6 columns):\n",
      " #   Column       Non-Null Count  Dtype  \n",
      "---  ------       --------------  -----  \n",
      " 0   Fiscal Year  136 non-null    int64  \n",
      " 1   Category     136 non-null    object \n",
      " 2   Type         136 non-null    object \n",
      " 3   Scope        120 non-null    object \n",
      " 4   Description  136 non-null    object \n",
      " 5   Emissions    109 non-null    float64\n",
      "dtypes: float64(1), int64(1), object(4)\n",
      "memory usage: 6.5+ KB\n"
     ]
    }
   ],
   "execution_count": 119
  },
  {
   "metadata": {
    "ExecuteTime": {
     "end_time": "2024-08-03T11:21:47.784152Z",
     "start_time": "2024-08-03T11:21:47.752170Z"
    }
   },
   "cell_type": "code",
   "source": "carbon.info()",
   "id": "fda0755d57f412",
   "outputs": [
    {
     "name": "stdout",
     "output_type": "stream",
     "text": [
      "<class 'pandas.core.frame.DataFrame'>\n",
      "RangeIndex: 10 entries, 0 to 9\n",
      "Data columns (total 4 columns):\n",
      " #   Column            Non-Null Count  Dtype \n",
      "---  ------            --------------  ----- \n",
      " 0   Release Year      10 non-null     int64 \n",
      " 1   Product           10 non-null     object\n",
      " 2   Baseline Storage  10 non-null     int64 \n",
      " 3   Carbon Footprint  10 non-null     int64 \n",
      "dtypes: int64(3), object(1)\n",
      "memory usage: 448.0+ bytes\n"
     ]
    }
   ],
   "execution_count": 120
  },
  {
   "metadata": {
    "ExecuteTime": {
     "end_time": "2024-08-03T11:21:47.845959Z",
     "start_time": "2024-08-03T11:21:47.805141Z"
    }
   },
   "cell_type": "code",
   "source": "factors.info()",
   "id": "d625459a9699a23",
   "outputs": [
    {
     "name": "stdout",
     "output_type": "stream",
     "text": [
      "<class 'pandas.core.frame.DataFrame'>\n",
      "RangeIndex: 8 entries, 0 to 7\n",
      "Data columns (total 4 columns):\n",
      " #   Column                 Non-Null Count  Dtype\n",
      "---  ------                 --------------  -----\n",
      " 0   Fiscal Year            8 non-null      int64\n",
      " 1   Revenue                8 non-null      int64\n",
      " 2   Market Capitalization  8 non-null      int64\n",
      " 3   Employees              8 non-null      int64\n",
      "dtypes: int64(4)\n",
      "memory usage: 384.0 bytes\n"
     ]
    }
   ],
   "execution_count": 121
  },
  {
   "metadata": {
    "ExecuteTime": {
     "end_time": "2024-08-03T11:21:47.906972Z",
     "start_time": "2024-08-03T11:21:47.879140Z"
    }
   },
   "cell_type": "code",
   "source": "carbon",
   "id": "4782f57f771433c6",
   "outputs": [
    {
     "data": {
      "text/plain": [
       "   Release Year    Product  Baseline Storage  Carbon Footprint\n",
       "0          2023  iPhone 15               128                56\n",
       "1          2022  iPhone 14               128                61\n",
       "2          2021  iPhone 13               128                64\n",
       "3          2020  iPhone 12                64                70\n",
       "4          2019  iPhone 11                64                72\n",
       "5          2018  iPhone Xs                64                70\n",
       "6          2017   iPhone X                64                79\n",
       "7          2017   iPhone 8                64                57\n",
       "8          2016   iPhone 7                32                56\n",
       "9          2015  iPhone 6s                32                54"
      ],
      "text/html": [
       "<div>\n",
       "<style scoped>\n",
       "    .dataframe tbody tr th:only-of-type {\n",
       "        vertical-align: middle;\n",
       "    }\n",
       "\n",
       "    .dataframe tbody tr th {\n",
       "        vertical-align: top;\n",
       "    }\n",
       "\n",
       "    .dataframe thead th {\n",
       "        text-align: right;\n",
       "    }\n",
       "</style>\n",
       "<table border=\"1\" class=\"dataframe\">\n",
       "  <thead>\n",
       "    <tr style=\"text-align: right;\">\n",
       "      <th></th>\n",
       "      <th>Release Year</th>\n",
       "      <th>Product</th>\n",
       "      <th>Baseline Storage</th>\n",
       "      <th>Carbon Footprint</th>\n",
       "    </tr>\n",
       "  </thead>\n",
       "  <tbody>\n",
       "    <tr>\n",
       "      <th>0</th>\n",
       "      <td>2023</td>\n",
       "      <td>iPhone 15</td>\n",
       "      <td>128</td>\n",
       "      <td>56</td>\n",
       "    </tr>\n",
       "    <tr>\n",
       "      <th>1</th>\n",
       "      <td>2022</td>\n",
       "      <td>iPhone 14</td>\n",
       "      <td>128</td>\n",
       "      <td>61</td>\n",
       "    </tr>\n",
       "    <tr>\n",
       "      <th>2</th>\n",
       "      <td>2021</td>\n",
       "      <td>iPhone 13</td>\n",
       "      <td>128</td>\n",
       "      <td>64</td>\n",
       "    </tr>\n",
       "    <tr>\n",
       "      <th>3</th>\n",
       "      <td>2020</td>\n",
       "      <td>iPhone 12</td>\n",
       "      <td>64</td>\n",
       "      <td>70</td>\n",
       "    </tr>\n",
       "    <tr>\n",
       "      <th>4</th>\n",
       "      <td>2019</td>\n",
       "      <td>iPhone 11</td>\n",
       "      <td>64</td>\n",
       "      <td>72</td>\n",
       "    </tr>\n",
       "    <tr>\n",
       "      <th>5</th>\n",
       "      <td>2018</td>\n",
       "      <td>iPhone Xs</td>\n",
       "      <td>64</td>\n",
       "      <td>70</td>\n",
       "    </tr>\n",
       "    <tr>\n",
       "      <th>6</th>\n",
       "      <td>2017</td>\n",
       "      <td>iPhone X</td>\n",
       "      <td>64</td>\n",
       "      <td>79</td>\n",
       "    </tr>\n",
       "    <tr>\n",
       "      <th>7</th>\n",
       "      <td>2017</td>\n",
       "      <td>iPhone 8</td>\n",
       "      <td>64</td>\n",
       "      <td>57</td>\n",
       "    </tr>\n",
       "    <tr>\n",
       "      <th>8</th>\n",
       "      <td>2016</td>\n",
       "      <td>iPhone 7</td>\n",
       "      <td>32</td>\n",
       "      <td>56</td>\n",
       "    </tr>\n",
       "    <tr>\n",
       "      <th>9</th>\n",
       "      <td>2015</td>\n",
       "      <td>iPhone 6s</td>\n",
       "      <td>32</td>\n",
       "      <td>54</td>\n",
       "    </tr>\n",
       "  </tbody>\n",
       "</table>\n",
       "</div>"
      ]
     },
     "execution_count": 122,
     "metadata": {},
     "output_type": "execute_result"
    }
   ],
   "execution_count": 122
  },
  {
   "metadata": {
    "ExecuteTime": {
     "end_time": "2024-08-03T11:21:48.016438Z",
     "start_time": "2024-08-03T11:21:47.975463Z"
    }
   },
   "cell_type": "code",
   "source": "greenhouse",
   "id": "788959e7ff21a977",
   "outputs": [
    {
     "data": {
      "text/plain": [
       "     Fiscal Year                      Category             Type  \\\n",
       "0           2022           Corporate emissions  Gross emissions   \n",
       "1           2022           Corporate emissions  Gross emissions   \n",
       "2           2022           Corporate emissions  Gross emissions   \n",
       "3           2022           Corporate emissions  Gross emissions   \n",
       "4           2022           Corporate emissions  Gross emissions   \n",
       "..           ...                           ...              ...   \n",
       "131         2015  Product life cycle emissions  Gross emissions   \n",
       "132         2015  Product life cycle emissions  Gross emissions   \n",
       "133         2015  Product life cycle emissions  Gross emissions   \n",
       "134         2015  Product life cycle emissions  Gross emissions   \n",
       "135         2015  Product life cycle emissions  Carbon removals   \n",
       "\n",
       "                      Scope                                       Description  \\\n",
       "0                   Scope 1                      Natural gas, diesel, propane   \n",
       "1                   Scope 1                                    Fleet vehicles   \n",
       "2                   Scope 1         Other (R&D processes & refrigerant leaks)   \n",
       "3    Scope 2 (market-based)                                       Electricity   \n",
       "4    Scope 2 (market-based)                       Steam, heating, and cooling   \n",
       "..                      ...                                               ...   \n",
       "131                 Scope 3      Manufacturing (purchased goods and services)   \n",
       "132                 Scope 3  Product transportation (upstream and downstream)   \n",
       "133                 Scope 3                Product use (use of sold products)   \n",
       "134                 Scope 3                            End-of-life processing   \n",
       "135                     NaN                            Product carbon offsets   \n",
       "\n",
       "      Emissions  \n",
       "0       39700.0  \n",
       "1       12600.0  \n",
       "2        2900.0  \n",
       "3           0.0  \n",
       "4        3000.0  \n",
       "..          ...  \n",
       "131  29600000.0  \n",
       "132   1300000.0  \n",
       "133   6600000.0  \n",
       "134    500000.0  \n",
       "135         NaN  \n",
       "\n",
       "[136 rows x 6 columns]"
      ],
      "text/html": [
       "<div>\n",
       "<style scoped>\n",
       "    .dataframe tbody tr th:only-of-type {\n",
       "        vertical-align: middle;\n",
       "    }\n",
       "\n",
       "    .dataframe tbody tr th {\n",
       "        vertical-align: top;\n",
       "    }\n",
       "\n",
       "    .dataframe thead th {\n",
       "        text-align: right;\n",
       "    }\n",
       "</style>\n",
       "<table border=\"1\" class=\"dataframe\">\n",
       "  <thead>\n",
       "    <tr style=\"text-align: right;\">\n",
       "      <th></th>\n",
       "      <th>Fiscal Year</th>\n",
       "      <th>Category</th>\n",
       "      <th>Type</th>\n",
       "      <th>Scope</th>\n",
       "      <th>Description</th>\n",
       "      <th>Emissions</th>\n",
       "    </tr>\n",
       "  </thead>\n",
       "  <tbody>\n",
       "    <tr>\n",
       "      <th>0</th>\n",
       "      <td>2022</td>\n",
       "      <td>Corporate emissions</td>\n",
       "      <td>Gross emissions</td>\n",
       "      <td>Scope 1</td>\n",
       "      <td>Natural gas, diesel, propane</td>\n",
       "      <td>39700.0</td>\n",
       "    </tr>\n",
       "    <tr>\n",
       "      <th>1</th>\n",
       "      <td>2022</td>\n",
       "      <td>Corporate emissions</td>\n",
       "      <td>Gross emissions</td>\n",
       "      <td>Scope 1</td>\n",
       "      <td>Fleet vehicles</td>\n",
       "      <td>12600.0</td>\n",
       "    </tr>\n",
       "    <tr>\n",
       "      <th>2</th>\n",
       "      <td>2022</td>\n",
       "      <td>Corporate emissions</td>\n",
       "      <td>Gross emissions</td>\n",
       "      <td>Scope 1</td>\n",
       "      <td>Other (R&amp;D processes &amp; refrigerant leaks)</td>\n",
       "      <td>2900.0</td>\n",
       "    </tr>\n",
       "    <tr>\n",
       "      <th>3</th>\n",
       "      <td>2022</td>\n",
       "      <td>Corporate emissions</td>\n",
       "      <td>Gross emissions</td>\n",
       "      <td>Scope 2 (market-based)</td>\n",
       "      <td>Electricity</td>\n",
       "      <td>0.0</td>\n",
       "    </tr>\n",
       "    <tr>\n",
       "      <th>4</th>\n",
       "      <td>2022</td>\n",
       "      <td>Corporate emissions</td>\n",
       "      <td>Gross emissions</td>\n",
       "      <td>Scope 2 (market-based)</td>\n",
       "      <td>Steam, heating, and cooling</td>\n",
       "      <td>3000.0</td>\n",
       "    </tr>\n",
       "    <tr>\n",
       "      <th>...</th>\n",
       "      <td>...</td>\n",
       "      <td>...</td>\n",
       "      <td>...</td>\n",
       "      <td>...</td>\n",
       "      <td>...</td>\n",
       "      <td>...</td>\n",
       "    </tr>\n",
       "    <tr>\n",
       "      <th>131</th>\n",
       "      <td>2015</td>\n",
       "      <td>Product life cycle emissions</td>\n",
       "      <td>Gross emissions</td>\n",
       "      <td>Scope 3</td>\n",
       "      <td>Manufacturing (purchased goods and services)</td>\n",
       "      <td>29600000.0</td>\n",
       "    </tr>\n",
       "    <tr>\n",
       "      <th>132</th>\n",
       "      <td>2015</td>\n",
       "      <td>Product life cycle emissions</td>\n",
       "      <td>Gross emissions</td>\n",
       "      <td>Scope 3</td>\n",
       "      <td>Product transportation (upstream and downstream)</td>\n",
       "      <td>1300000.0</td>\n",
       "    </tr>\n",
       "    <tr>\n",
       "      <th>133</th>\n",
       "      <td>2015</td>\n",
       "      <td>Product life cycle emissions</td>\n",
       "      <td>Gross emissions</td>\n",
       "      <td>Scope 3</td>\n",
       "      <td>Product use (use of sold products)</td>\n",
       "      <td>6600000.0</td>\n",
       "    </tr>\n",
       "    <tr>\n",
       "      <th>134</th>\n",
       "      <td>2015</td>\n",
       "      <td>Product life cycle emissions</td>\n",
       "      <td>Gross emissions</td>\n",
       "      <td>Scope 3</td>\n",
       "      <td>End-of-life processing</td>\n",
       "      <td>500000.0</td>\n",
       "    </tr>\n",
       "    <tr>\n",
       "      <th>135</th>\n",
       "      <td>2015</td>\n",
       "      <td>Product life cycle emissions</td>\n",
       "      <td>Carbon removals</td>\n",
       "      <td>NaN</td>\n",
       "      <td>Product carbon offsets</td>\n",
       "      <td>NaN</td>\n",
       "    </tr>\n",
       "  </tbody>\n",
       "</table>\n",
       "<p>136 rows × 6 columns</p>\n",
       "</div>"
      ]
     },
     "execution_count": 123,
     "metadata": {},
     "output_type": "execute_result"
    }
   ],
   "execution_count": 123
  },
  {
   "metadata": {
    "ExecuteTime": {
     "end_time": "2024-08-03T11:21:48.173601Z",
     "start_time": "2024-08-03T11:21:48.149615Z"
    }
   },
   "cell_type": "code",
   "source": "factors",
   "id": "34849858fb3757e2",
   "outputs": [
    {
     "data": {
      "text/plain": [
       "   Fiscal Year  Revenue  Market Capitalization  Employees\n",
       "0         2022   394328                   2490     164000\n",
       "1         2021   365817                   2450     154000\n",
       "2         2020   274515                   1720     147000\n",
       "3         2019   260174                   1090     137000\n",
       "4         2018   265595                    830     132000\n",
       "5         2017   229234                    740     123000\n",
       "6         2016   215639                    600     116000\n",
       "7         2015   233715                    580     110000"
      ],
      "text/html": [
       "<div>\n",
       "<style scoped>\n",
       "    .dataframe tbody tr th:only-of-type {\n",
       "        vertical-align: middle;\n",
       "    }\n",
       "\n",
       "    .dataframe tbody tr th {\n",
       "        vertical-align: top;\n",
       "    }\n",
       "\n",
       "    .dataframe thead th {\n",
       "        text-align: right;\n",
       "    }\n",
       "</style>\n",
       "<table border=\"1\" class=\"dataframe\">\n",
       "  <thead>\n",
       "    <tr style=\"text-align: right;\">\n",
       "      <th></th>\n",
       "      <th>Fiscal Year</th>\n",
       "      <th>Revenue</th>\n",
       "      <th>Market Capitalization</th>\n",
       "      <th>Employees</th>\n",
       "    </tr>\n",
       "  </thead>\n",
       "  <tbody>\n",
       "    <tr>\n",
       "      <th>0</th>\n",
       "      <td>2022</td>\n",
       "      <td>394328</td>\n",
       "      <td>2490</td>\n",
       "      <td>164000</td>\n",
       "    </tr>\n",
       "    <tr>\n",
       "      <th>1</th>\n",
       "      <td>2021</td>\n",
       "      <td>365817</td>\n",
       "      <td>2450</td>\n",
       "      <td>154000</td>\n",
       "    </tr>\n",
       "    <tr>\n",
       "      <th>2</th>\n",
       "      <td>2020</td>\n",
       "      <td>274515</td>\n",
       "      <td>1720</td>\n",
       "      <td>147000</td>\n",
       "    </tr>\n",
       "    <tr>\n",
       "      <th>3</th>\n",
       "      <td>2019</td>\n",
       "      <td>260174</td>\n",
       "      <td>1090</td>\n",
       "      <td>137000</td>\n",
       "    </tr>\n",
       "    <tr>\n",
       "      <th>4</th>\n",
       "      <td>2018</td>\n",
       "      <td>265595</td>\n",
       "      <td>830</td>\n",
       "      <td>132000</td>\n",
       "    </tr>\n",
       "    <tr>\n",
       "      <th>5</th>\n",
       "      <td>2017</td>\n",
       "      <td>229234</td>\n",
       "      <td>740</td>\n",
       "      <td>123000</td>\n",
       "    </tr>\n",
       "    <tr>\n",
       "      <th>6</th>\n",
       "      <td>2016</td>\n",
       "      <td>215639</td>\n",
       "      <td>600</td>\n",
       "      <td>116000</td>\n",
       "    </tr>\n",
       "    <tr>\n",
       "      <th>7</th>\n",
       "      <td>2015</td>\n",
       "      <td>233715</td>\n",
       "      <td>580</td>\n",
       "      <td>110000</td>\n",
       "    </tr>\n",
       "  </tbody>\n",
       "</table>\n",
       "</div>"
      ]
     },
     "execution_count": 124,
     "metadata": {},
     "output_type": "execute_result"
    }
   ],
   "execution_count": 124
  },
  {
   "metadata": {
    "ExecuteTime": {
     "end_time": "2024-08-03T11:21:48.377145Z",
     "start_time": "2024-08-03T11:21:48.326013Z"
    }
   },
   "cell_type": "code",
   "source": [
    "# Inspect rows with missing values in 'Scope' and 'Emissions' columns\n",
    "missing_scope = greenhouse[greenhouse['Scope'].isnull()]\n",
    "missing_emissions = greenhouse[greenhouse['Emissions'].isnull()]\n",
    "\n",
    "missing_scope, missing_emissions"
   ],
   "id": "2e4eab35972f4fd3",
   "outputs": [
    {
     "data": {
      "text/plain": [
       "(     Fiscal Year                      Category             Type Scope  \\\n",
       " 11          2022           Corporate emissions  Carbon removals   NaN   \n",
       " 16          2022  Product life cycle emissions  Carbon removals   NaN   \n",
       " 28          2021           Corporate emissions  Carbon removals   NaN   \n",
       " 33          2021  Product life cycle emissions  Carbon removals   NaN   \n",
       " 45          2020           Corporate emissions  Carbon removals   NaN   \n",
       " 50          2020  Product life cycle emissions  Carbon removals   NaN   \n",
       " 62          2019           Corporate emissions  Carbon removals   NaN   \n",
       " 67          2019  Product life cycle emissions  Carbon removals   NaN   \n",
       " 79          2018           Corporate emissions  Carbon removals   NaN   \n",
       " 84          2018  Product life cycle emissions  Carbon removals   NaN   \n",
       " 96          2017           Corporate emissions  Carbon removals   NaN   \n",
       " 101         2017  Product life cycle emissions  Carbon removals   NaN   \n",
       " 113         2016           Corporate emissions  Carbon removals   NaN   \n",
       " 118         2016  Product life cycle emissions  Carbon removals   NaN   \n",
       " 130         2015           Corporate emissions  Carbon removals   NaN   \n",
       " 135         2015  Product life cycle emissions  Carbon removals   NaN   \n",
       " \n",
       "                   Description  Emissions  \n",
       " 11   Corporate carbon offsets  -324100.0  \n",
       " 16     Product carbon offsets        0.0  \n",
       " 28   Corporate carbon offsets  -167000.0  \n",
       " 33     Product carbon offsets  -500000.0  \n",
       " 45   Corporate carbon offsets   -70000.0  \n",
       " 50     Product carbon offsets        0.0  \n",
       " 62   Corporate carbon offsets        0.0  \n",
       " 67     Product carbon offsets        0.0  \n",
       " 79   Corporate carbon offsets        0.0  \n",
       " 84     Product carbon offsets        0.0  \n",
       " 96   Corporate carbon offsets        NaN  \n",
       " 101    Product carbon offsets        NaN  \n",
       " 113  Corporate carbon offsets        NaN  \n",
       " 118    Product carbon offsets        NaN  \n",
       " 130  Corporate carbon offsets        NaN  \n",
       " 135    Product carbon offsets        NaN  ,\n",
       "      Fiscal Year                      Category             Type  \\\n",
       " 26          2021           Corporate emissions  Gross emissions   \n",
       " 43          2020           Corporate emissions  Gross emissions   \n",
       " 60          2019           Corporate emissions  Gross emissions   \n",
       " 77          2018           Corporate emissions  Gross emissions   \n",
       " 89          2017           Corporate emissions  Gross emissions   \n",
       " 92          2017           Corporate emissions  Gross emissions   \n",
       " 93          2017           Corporate emissions  Gross emissions   \n",
       " 94          2017           Corporate emissions  Gross emissions   \n",
       " 95          2017           Corporate emissions  Gross emissions   \n",
       " 96          2017           Corporate emissions  Carbon removals   \n",
       " 101         2017  Product life cycle emissions  Carbon removals   \n",
       " 104         2016           Corporate emissions  Gross emissions   \n",
       " 106         2016           Corporate emissions  Gross emissions   \n",
       " 109         2016           Corporate emissions  Gross emissions   \n",
       " 110         2016           Corporate emissions  Gross emissions   \n",
       " 111         2016           Corporate emissions  Gross emissions   \n",
       " 112         2016           Corporate emissions  Gross emissions   \n",
       " 113         2016           Corporate emissions  Carbon removals   \n",
       " 118         2016  Product life cycle emissions  Carbon removals   \n",
       " 121         2015           Corporate emissions  Gross emissions   \n",
       " 123         2015           Corporate emissions  Gross emissions   \n",
       " 126         2015           Corporate emissions  Gross emissions   \n",
       " 127         2015           Corporate emissions  Gross emissions   \n",
       " 128         2015           Corporate emissions  Gross emissions   \n",
       " 129         2015           Corporate emissions  Gross emissions   \n",
       " 130         2015           Corporate emissions  Carbon removals   \n",
       " 135         2015  Product life cycle emissions  Carbon removals   \n",
       " \n",
       "                       Scope  \\\n",
       " 26                  Scope 3   \n",
       " 43                  Scope 3   \n",
       " 60                  Scope 3   \n",
       " 77                  Scope 3   \n",
       " 89   Scope 2 (market-based)   \n",
       " 92                  Scope 3   \n",
       " 93                  Scope 3   \n",
       " 94                  Scope 3   \n",
       " 95                  Scope 3   \n",
       " 96                      NaN   \n",
       " 101                     NaN   \n",
       " 104                 Scope 1   \n",
       " 106  Scope 2 (market-based)   \n",
       " 109                 Scope 3   \n",
       " 110                 Scope 3   \n",
       " 111                 Scope 3   \n",
       " 112                 Scope 3   \n",
       " 113                     NaN   \n",
       " 118                     NaN   \n",
       " 121                 Scope 1   \n",
       " 123  Scope 2 (market-based)   \n",
       " 126                 Scope 3   \n",
       " 127                 Scope 3   \n",
       " 128                 Scope 3   \n",
       " 129                 Scope 3   \n",
       " 130                     NaN   \n",
       " 135                     NaN   \n",
       " \n",
       "                                            Description  Emissions  \n",
       " 26   Transmission and distribution loss (market-based)        NaN  \n",
       " 43   Transmission and distribution loss (market-based)        NaN  \n",
       " 60   Transmission and distribution loss (market-based)        NaN  \n",
       " 77   Transmission and distribution loss (market-based)        NaN  \n",
       " 89                         Steam, heating, and cooling        NaN  \n",
       " 92                                       Upstream fuel        NaN  \n",
       " 93                       Work from home (market-based)        NaN  \n",
       " 94   Transmission and distribution loss (market-based)        NaN  \n",
       " 95                    Third-party cloud (market-based)        NaN  \n",
       " 96                            Corporate carbon offsets        NaN  \n",
       " 101                             Product carbon offsets        NaN  \n",
       " 104          Other (R&D processes & refrigerant leaks)        NaN  \n",
       " 106                        Steam, heating, and cooling        NaN  \n",
       " 109                                      Upstream fuel        NaN  \n",
       " 110                      Work from home (market-based)        NaN  \n",
       " 111  Transmission and distribution loss (market-based)        NaN  \n",
       " 112                   Third-party cloud (market-based)        NaN  \n",
       " 113                           Corporate carbon offsets        NaN  \n",
       " 118                             Product carbon offsets        NaN  \n",
       " 121          Other (R&D processes & refrigerant leaks)        NaN  \n",
       " 123                        Steam, heating, and cooling        NaN  \n",
       " 126                                      Upstream fuel        NaN  \n",
       " 127                      Work from home (market-based)        NaN  \n",
       " 128  Transmission and distribution loss (market-based)        NaN  \n",
       " 129                   Third-party cloud (market-based)        NaN  \n",
       " 130                           Corporate carbon offsets        NaN  \n",
       " 135                             Product carbon offsets        NaN  )"
      ]
     },
     "execution_count": 125,
     "metadata": {},
     "output_type": "execute_result"
    }
   ],
   "execution_count": 125
  },
  {
   "metadata": {
    "ExecuteTime": {
     "end_time": "2024-08-03T11:21:48.533055Z",
     "start_time": "2024-08-03T11:21:48.513066Z"
    }
   },
   "cell_type": "code",
   "source": [
    "# Fill missing Scope values related to \"Carbon removals\" with \"Unknown\"\n",
    "greenhouse.loc[greenhouse['Scope'].isnull() &\n",
    "                                (greenhouse['Type'] == 'Carbon removals'), 'Scope'] = 'Unknown'\n",
    "\n",
    "# Fill missing Scope values with median\n",
    "greenhouse['Emissions'].fillna(greenhouse['Emissions'].median(), inplace=True)"
   ],
   "id": "539416d8108e785",
   "outputs": [],
   "execution_count": 126
  },
  {
   "metadata": {
    "ExecuteTime": {
     "end_time": "2024-08-03T11:21:48.827063Z",
     "start_time": "2024-08-03T11:21:48.802078Z"
    }
   },
   "cell_type": "code",
   "source": [
    "# Verify that there are no more missing values\n",
    "missing_values_after_cleaning = greenhouse.isnull().sum()\n",
    "print(missing_values_after_cleaning)"
   ],
   "id": "40d6dc15b4d8a6c6",
   "outputs": [
    {
     "name": "stdout",
     "output_type": "stream",
     "text": [
      "Fiscal Year    0\n",
      "Category       0\n",
      "Type           0\n",
      "Scope          0\n",
      "Description    0\n",
      "Emissions      0\n",
      "dtype: int64\n"
     ]
    }
   ],
   "execution_count": 127
  },
  {
   "metadata": {
    "ExecuteTime": {
     "end_time": "2024-08-03T11:21:49.090924Z",
     "start_time": "2024-08-03T11:21:48.966987Z"
    }
   },
   "cell_type": "code",
   "source": "carbon.info()",
   "id": "3fb88863e0fea69d",
   "outputs": [
    {
     "name": "stdout",
     "output_type": "stream",
     "text": [
      "<class 'pandas.core.frame.DataFrame'>\n",
      "RangeIndex: 10 entries, 0 to 9\n",
      "Data columns (total 4 columns):\n",
      " #   Column            Non-Null Count  Dtype \n",
      "---  ------            --------------  ----- \n",
      " 0   Release Year      10 non-null     int64 \n",
      " 1   Product           10 non-null     object\n",
      " 2   Baseline Storage  10 non-null     int64 \n",
      " 3   Carbon Footprint  10 non-null     int64 \n",
      "dtypes: int64(3), object(1)\n",
      "memory usage: 448.0+ bytes\n"
     ]
    }
   ],
   "execution_count": 128
  },
  {
   "metadata": {
    "ExecuteTime": {
     "end_time": "2024-08-03T11:21:49.231045Z",
     "start_time": "2024-08-03T11:21:49.156886Z"
    }
   },
   "cell_type": "code",
   "source": [
    "# Export cleaned data\n",
    "greenhouse.to_csv('data/greenhouse_clean.csv', index=False)\n",
    "carbon.to_csv('data/carbon_clean.csv', index=False)\n",
    "factors.to_csv('data/factors_clean.csv', index=False)"
   ],
   "id": "4ba4198102be90c9",
   "outputs": [],
   "execution_count": 129
  }
 ],
 "metadata": {
  "kernelspec": {
   "display_name": "Python 3",
   "language": "python",
   "name": "python3"
  },
  "language_info": {
   "codemirror_mode": {
    "name": "ipython",
    "version": 2
   },
   "file_extension": ".py",
   "mimetype": "text/x-python",
   "name": "python",
   "nbconvert_exporter": "python",
   "pygments_lexer": "ipython2",
   "version": "2.7.6"
  }
 },
 "nbformat": 4,
 "nbformat_minor": 5
}
